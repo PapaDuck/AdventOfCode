{
 "cells": [
  {
   "cell_type": "markdown",
   "id": "d949df2b",
   "metadata": {},
   "source": [
    "# --- Day 12: Hill Climbing Algorithm ---\n",
    "\n",
    "You try contacting the Elves using your handheld device, but the river you're following must be too low to get a decent signal.\n",
    "\n",
    "You ask the device for a heightmap of the surrounding area (your puzzle input). The heightmap shows the local area from above broken into a grid; the elevation of each square of the grid is given by a single lowercase letter, where `a` is the lowest elevation, `b` is the next-lowest, and so on up to the highest elevation, `z`.\n",
    "\n",
    "Also included on the heightmap are marks for your current position (`S`) and the location that should get the best signal (`E`). Your current position (`S`) has elevation a, and the location that should get the best signal (`E`) has elevation `z`.\n",
    "\n",
    "You'd like to reach `E`, but to save energy, you should do it in **as few steps as possible**. During each step, you can move exactly one square up, down, left, or right. To avoid needing to get out your climbing gear, the elevation of the destination square can be **at most one higher** than the elevation of your current square; that is, if your current elevation is `m`, you could step to elevation `n`, but not to elevation `o`. (This also means that the elevation of the destination square can be much lower than the elevation of your current square.)\n",
    "\n",
    "For example:\n",
    "```\n",
    "Sabqponm\n",
    "abcryxxl\n",
    "accszExk\n",
    "acctuvwj\n",
    "abdefghi\n",
    "```\n",
    "Here, you start in the top-left corner; your goal is near the middle. You could start by moving down or right, but eventually you'll need to head toward the `e` at the bottom. From there, you can spiral around to the goal:\n",
    "```\n",
    "v..v<<<<\n",
    ">v.vv<<^\n",
    ".>vv>E^^\n",
    "..v>>>^^\n",
    "..>>>>>^\n",
    "```\n",
    "In the above diagram, the symbols indicate whether the path exits each square moving up (`^`), down (`v`), left (`<`), or right (`>`). The location that should get the best signal is still `E`, and `.` marks unvisited squares.\n",
    "\n",
    "This path reaches the goal in `31` steps, the fewest possible.\n",
    "\n",
    "**What is the fewest steps required to move from your current position to the location that should get the best signal?**"
   ]
  },
  {
   "cell_type": "code",
   "execution_count": 1,
   "id": "a657864b",
   "metadata": {},
   "outputs": [],
   "source": [
    "#imports\n",
    "import pandas as pd\n",
    "import re"
   ]
  },
  {
   "cell_type": "code",
   "execution_count": 2,
   "id": "6d5e94c3",
   "metadata": {},
   "outputs": [],
   "source": [
    "input = 'input.txt'\n",
    "input = 'testinput.txt'"
   ]
  },
  {
   "cell_type": "code",
   "execution_count": 3,
   "id": "40dbcc5a",
   "metadata": {},
   "outputs": [],
   "source": [
    "def readinput(file):\n",
    "    with open(file) as f:\n",
    "        #lines = f.readlines()\n",
    "        lines = f.read().splitlines() \n",
    "    return lines\n",
    "\n",
    "input = readinput(input)"
   ]
  },
  {
   "cell_type": "code",
   "execution_count": 4,
   "id": "cb95d20b",
   "metadata": {},
   "outputs": [
    {
     "data": {
      "text/plain": [
       "['Sabqponm', 'abcryxxl', 'accszExk', 'acctuvwj', 'abdefghi']"
      ]
     },
     "execution_count": 4,
     "metadata": {},
     "output_type": "execute_result"
    }
   ],
   "source": [
    "#input = input[0]\n",
    "input"
   ]
  },
  {
   "cell_type": "code",
   "execution_count": 19,
   "id": "a4cb2062",
   "metadata": {},
   "outputs": [],
   "source": [
    "def xxx(steps):\n",
    "    print(x)\n",
    "    return True"
   ]
  }
 ],
 "metadata": {
  "kernelspec": {
   "display_name": "Python 3 (ipykernel)",
   "language": "python",
   "name": "python3"
  },
  "language_info": {
   "codemirror_mode": {
    "name": "ipython",
    "version": 3
   },
   "file_extension": ".py",
   "mimetype": "text/x-python",
   "name": "python",
   "nbconvert_exporter": "python",
   "pygments_lexer": "ipython3",
   "version": "3.9.13"
  }
 },
 "nbformat": 4,
 "nbformat_minor": 5
}
