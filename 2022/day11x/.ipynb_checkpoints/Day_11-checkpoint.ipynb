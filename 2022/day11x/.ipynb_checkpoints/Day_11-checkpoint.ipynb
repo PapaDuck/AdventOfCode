{
 "cells": [
  {
   "cell_type": "markdown",
   "id": "d949df2b",
   "metadata": {},
   "source": [
    "# --- Day 11: Monkey in the Middle ---\n",
    "\n",
    "\n",
    "\n",
    "**What is the level of monkey business after 20 rounds of stuff-slinging simian shenanigans?**"
   ]
  },
  {
   "cell_type": "code",
   "execution_count": null,
   "id": "a657864b",
   "metadata": {},
   "outputs": [],
   "source": [
    "#imports\n",
    "import pandas as pd\n",
    "import re"
   ]
  },
  {
   "cell_type": "code",
   "execution_count": null,
   "id": "6d5e94c3",
   "metadata": {},
   "outputs": [],
   "source": [
    "input = 'input.txt'\n",
    "#input = 'testinput.txt'"
   ]
  },
  {
   "cell_type": "code",
   "execution_count": null,
   "id": "40dbcc5a",
   "metadata": {},
   "outputs": [],
   "source": [
    "def readinput(file):\n",
    "    with open(file) as f:\n",
    "        #lines = f.readlines()\n",
    "        lines = f.read().splitlines() \n",
    "    return lines\n",
    "\n",
    "input = readinput(input)"
   ]
  },
  {
   "cell_type": "code",
   "execution_count": null,
   "id": "cb95d20b",
   "metadata": {},
   "outputs": [],
   "source": [
    "#input = input[0]\n",
    "input"
   ]
  },
  {
   "cell_type": "code",
   "execution_count": null,
   "id": "a4cb2062",
   "metadata": {},
   "outputs": [],
   "source": [
    "def monkeydic(monkeylist):\n",
    "    allmonkeys = {}\n",
    "    monkey = {}\n",
    "    monkeynumber = None\n",
    "    startingitems = []\n",
    "    operations = []\n",
    "    test = None\n",
    "    trueto = None\n",
    "    falseto = None\n",
    "    throwto = []\n",
    "    \n",
    "    for monkeyrow in monkeylist:\n",
    "        # find Monkey number\n",
    "        monkeyrow = monkeyrow.strip()\n",
    "        if monkeyrow[:6] == 'Monkey':\n",
    "            monkeynumber = int(re.findall(r'\\d+', monkeyrow)[0])\n",
    "        # find Monkey starting items\n",
    "        elif monkeyrow[:8] == 'Starting':\n",
    "            startingitems = re.findall(r'\\d+', monkeyrow)\n",
    "            startingitems = list(map(int, startingitems))\n",
    "        elif monkeyrow[:9] == 'Operation':\n",
    "            monkeyrow = monkeyrow[17:].split(' ')\n",
    "            for operaters in monkeyrow[1:]:\n",
    "                operations.append(operaters)\n",
    "        elif monkeyrow[:4] == 'Test':\n",
    "            test = int(re.findall(r'\\d+', monkeyrow)[0])\n",
    "        elif monkeyrow[:7] == 'If true':\n",
    "            trueto = int(re.findall(r'\\d+', monkeyrow)[0])\n",
    "        elif monkeyrow[:8] == 'If false':\n",
    "            falseto = int(re.findall(r'\\d+', monkeyrow)[0])\n",
    "            throwto = [trueto, falseto]\n",
    "            \n",
    "            \n",
    "        # add monkey details to dict\n",
    "        if monkeyrow == '':\n",
    "            monkey['startingitems'] = startingitems\n",
    "            monkey['operation'] = operations\n",
    "            monkey['test'] = test\n",
    "            monkey['throwto'] = throwto\n",
    "            monkey['inspecteditems'] = 0\n",
    "            \n",
    "            allmonkeys[monkeynumber] = monkey\n",
    "            monkey = {}\n",
    "            monkeynumber = None\n",
    "            startingitems = []\n",
    "            operations = []\n",
    "            test = None\n",
    "            trueto = None\n",
    "            falseto = None\n",
    "            throwto = []\n",
    "    monkey['startingitems'] = startingitems\n",
    "    monkey['operation'] = operations\n",
    "    monkey['test'] = test\n",
    "    monkey['throwto'] = throwto\n",
    "    monkey['inspecteditems'] = 0\n",
    "            \n",
    "    allmonkeys[monkeynumber] = monkey\n",
    "    monkey = {}\n",
    "    monkeynumber = None\n",
    "    startingitems = []\n",
    "    operations = []\n",
    "    test = None\n",
    "    trueto = None\n",
    "    falseto = None\n",
    "    throwto = []\n",
    "        \n",
    "    return allmonkeys\n",
    "    \n",
    "monkeys = monkeydic(input)"
   ]
  },
  {
   "cell_type": "code",
   "execution_count": null,
   "id": "bc4f9862",
   "metadata": {},
   "outputs": [],
   "source": [
    "def inspectitem(monkey, monkeyno):\n",
    "    startingitems = monkey['startingitems']\n",
    "    for item in startingitems:\n",
    "        \n",
    "        inspecteditems = monkey['inspecteditems']\n",
    "        inspecteditems += 1\n",
    "        monkey['inspecteditems'] = inspecteditems\n",
    "        \n",
    "        #print(f'Monkey {monkeyno} inspects item with level {item}')\n",
    "        item = int(item)\n",
    "        if monkey['operation'][1] == 'old':\n",
    "            value = int(item)\n",
    "        else:\n",
    "            value = int(monkey['operation'][1])\n",
    "        # operator + or *\n",
    "        if monkey['operation'][0] == '+':\n",
    "            worrylevel = item + value\n",
    "        elif monkey['operation'][0] == '*':\n",
    "            worrylevel = item * value\n",
    "        \n",
    "        # worrylevel / 3 and downround\n",
    "        worrylevelnr = 3\n",
    "        worrylevel = int(worrylevel//worrylevelnr)\n",
    "        #print(f'Monkey gets bored with item. Worry level is divided by 3 to {worrylevel}')\n",
    "        test = int(monkey['test'])\n",
    "        if worrylevel%test == 0:\n",
    "            #print(f'Current worry level IS divisible by {test}')\n",
    "            truemonkey = int(monkey['throwto'][0])\n",
    "            #print(f'Item with worry level {worrylevel} is thrown to monkey {truemonkey}.')\n",
    "            monkeys[truemonkey]['startingitems'].append(worrylevel)\n",
    "        else:\n",
    "            #print(f'Current worry level is NOT divisible by {test}.')\n",
    "            falsemonkey = int(monkey['throwto'][1])\n",
    "            #print(f'Item with worry level {worrylevel} is thrown to monkey {falsemonkey}.')\n",
    "            monkeys[falsemonkey]['startingitems'].append(worrylevel)\n",
    "    monkey['startingitems'] = []\n",
    "    return monkey"
   ]
  },
  {
   "cell_type": "code",
   "execution_count": null,
   "id": "d40bba1e",
   "metadata": {},
   "outputs": [],
   "source": [
    "def roundmonkeyworks(monkeys):\n",
    "    # for ever monkey\n",
    "    for monkeyno in monkeys:\n",
    "        monkey = monkeys[monkeyno]\n",
    "        monkey = inspectitem(monkey, monkeyno)\n",
    "    return"
   ]
  },
  {
   "cell_type": "code",
   "execution_count": null,
   "id": "b326c788",
   "metadata": {},
   "outputs": [],
   "source": [
    "def dorounds(rounds):  \n",
    "    for i in range(1,rounds+1):\n",
    "        roundmonkeyworks(monkeys)\n",
    "        print(f'Round: {i}')\n",
    "        print(f'Monkey 0: {monkeys[0][\"startingitems\"]}')\n",
    "        print(f'Monkey 1: {monkeys[1][\"startingitems\"]}')\n",
    "        print(f'Monkey 2: {monkeys[2][\"startingitems\"]}')\n",
    "        print(f'Monkey 3: {monkeys[3][\"startingitems\"]}')\n",
    "        print()\n",
    "    \n",
    "dorounds(10)\n"
   ]
  },
  {
   "cell_type": "code",
   "execution_count": null,
   "id": "2b259d56",
   "metadata": {},
   "outputs": [],
   "source": [
    "monkeys"
   ]
  },
  {
   "cell_type": "code",
   "execution_count": null,
   "id": "eeda7447",
   "metadata": {},
   "outputs": [],
   "source": [
    "bestmonkey = {}\n",
    "highscore = []\n",
    "for a,b in monkeys.items():\n",
    "    print(a)\n",
    "    print(b)\n",
    "    b = b['inspecteditems']\n",
    "    bestmonkey[a]=b\n",
    "    highscore.append(b)\n",
    "bestmonkey\n"
   ]
  },
  {
   "cell_type": "code",
   "execution_count": null,
   "id": "e7f67a22",
   "metadata": {},
   "outputs": [],
   "source": [
    "highscore.sort()\n",
    "x = highscore[-1]*highscore[-2]\n",
    "x"
   ]
  },
  {
   "cell_type": "markdown",
   "id": "64ba6c7a",
   "metadata": {},
   "source": [
    "# --- Part Two ---\n",
    "\n",
    "Your device's communication system is correctly detecting packets, but still isn't working. It looks like it also needs to look for **messages**.\n",
    "\n",
    "A **start-of-message** marker is just like a start-of-packet marker, except it consists of **14 distinct characters** rather than 4.\n",
    "\n",
    "Here are the first positions of start-of-message markers for all of the above examples:\n",
    "\n",
    "- `mjqjpqmgbljsphdztnvjfqwrcgsmlb`: first marker after character `19`\n",
    "- `bvwbjplbgvbhsrlpgdmjqwftvncz`: first marker after character `23`\n",
    "- `nppdvjthqldpwncqszvftbrmjlhg`: first marker after character `23`\n",
    "- `nznrnfrfntjfmvfwmzdfjlvtqnbhcprsg`: first marker after character `29`\n",
    "- `zcfzfwzzqfrljwzlrfnpqdbhtmscgvjw`: first marker after character `26`\n",
    "\n",
    "**How many characters need to be processed before the first start-of-message marker is detected?**"
   ]
  },
  {
   "cell_type": "code",
   "execution_count": null,
   "id": "0da493aa",
   "metadata": {},
   "outputs": [],
   "source": [
    "x = findsignal(input, 14)"
   ]
  },
  {
   "cell_type": "code",
   "execution_count": null,
   "id": "7ce8db31",
   "metadata": {},
   "outputs": [],
   "source": [
    "x"
   ]
  },
  {
   "cell_type": "code",
   "execution_count": null,
   "id": "475767ae",
   "metadata": {},
   "outputs": [],
   "source": []
  }
 ],
 "metadata": {
  "kernelspec": {
   "display_name": "Python 3 (ipykernel)",
   "language": "python",
   "name": "python3"
  },
  "language_info": {
   "codemirror_mode": {
    "name": "ipython",
    "version": 3
   },
   "file_extension": ".py",
   "mimetype": "text/x-python",
   "name": "python",
   "nbconvert_exporter": "python",
   "pygments_lexer": "ipython3",
   "version": "3.9.13"
  }
 },
 "nbformat": 4,
 "nbformat_minor": 5
}
