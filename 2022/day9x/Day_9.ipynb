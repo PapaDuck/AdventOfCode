{
 "cells": [
  {
   "cell_type": "markdown",
   "id": "d949df2b",
   "metadata": {},
   "source": [
    "# --- Day 6: Tuning Trouble ---\n",
    "\n",
    "The preparations are finally complete; you and the Elves leave camp on foot and begin to make your way toward the **star** fruit grove.\n",
    "\n",
    "As you move through the dense undergrowth, one of the Elves gives you a handheld device. He says that it has many fancy features, but the most important one to set up right now is the **communication system**.\n",
    "\n",
    "However, because he's heard you have significant experience dealing with signal-based systems, he convinced the other Elves that it would be okay to give you their one malfunctioning device - surely you'll have no problem fixing it.\n",
    "\n",
    "As if inspired by comedic timing, the device emits a few colorful sparks.\n",
    "\n",
    "To be able to communicate with the Elves, the device needs to lock on to **their signal**. The signal is a series of seemingly-random characters that the device receives one at a time.\n",
    "\n",
    "To fix the communication system, you need to add a subroutine to the device that detects a **start-of-packet marker** in the datastream. In the protocol being used by the Elves, the start of a packet is indicated by a sequence of **four characters that are all different**.\n",
    "\n",
    "The device will send your subroutine a datastream buffer (your puzzle input); your subroutine needs to identify the first position where the four most recently received characters were all different. Specifically, it needs to report the number of characters from the beginning of the buffer to the end of the first such four-character marker.\n",
    "\n",
    "For example, suppose you receive the following datastream buffer:\n",
    "\n",
    "`mjqjpqmgbljsphdztnvjfqwrcgsmlb`\n",
    "\n",
    "After the first three characters (`mjq`) have been received, there haven't been enough characters received yet to find the marker. The first time a marker could occur is after the fourth character is received, making the most recent four characters `mjqj`. Because `j` is repeated, this isn't a marker.\n",
    "\n",
    "The first time a marker appears is after the **seventh** character arrives. Once it does, the last four characters received are `jpqm`, which are all different. In this case, your subroutine should report the value `7`, because the first start-of-packet marker is complete after 7 characters have been processed.\n",
    "\n",
    "Here are a few more examples:\n",
    "\n",
    "- `bvwbjplbgvbhsrlpgdmjqwftvncz`: first marker after character `5`\n",
    "- `nppdvjthqldpwncqszvftbrmjlhg`: first marker after character `6`\n",
    "- `nznrnfrfntjfmvfwmzdfjlvtqnbhcprsg`: first marker after character `10`\n",
    "- `zcfzfwzzqfrljwzlrfnpqdbhtmscgvjw`: first marker after character `11`\n",
    "\n",
    "**How many characters need to be processed before the first start-of-packet marker is detected?**"
   ]
  },
  {
   "cell_type": "code",
   "execution_count": 1,
   "id": "a657864b",
   "metadata": {},
   "outputs": [],
   "source": [
    "#imports\n",
    "import pandas as pd"
   ]
  },
  {
   "cell_type": "code",
   "execution_count": 2,
   "id": "6d5e94c3",
   "metadata": {},
   "outputs": [],
   "source": [
    "input = 'input.txt'\n",
    "input = 'testinput.txt'"
   ]
  },
  {
   "cell_type": "code",
   "execution_count": 3,
   "id": "40dbcc5a",
   "metadata": {},
   "outputs": [],
   "source": [
    "def readinput(file):\n",
    "    with open(file) as f:\n",
    "        #lines = f.readlines()\n",
    "        lines = f.read().splitlines() \n",
    "    return lines\n",
    "\n",
    "input = readinput(input)"
   ]
  },
  {
   "cell_type": "code",
   "execution_count": 4,
   "id": "cb95d20b",
   "metadata": {},
   "outputs": [
    {
     "data": {
      "text/plain": [
       "['R 4', 'U 4', 'L 3', 'D 1', 'R 4', 'D 1', 'L 5', 'R 2']"
      ]
     },
     "execution_count": 4,
     "metadata": {},
     "output_type": "execute_result"
    }
   ],
   "source": [
    "#input = input[0]\n",
    "input"
   ]
  },
  {
   "cell_type": "code",
   "execution_count": 5,
   "id": "fc934873",
   "metadata": {},
   "outputs": [],
   "source": [
    "def dostep(isx:int, isy:int, direction:str):\n",
    "    if direction == 'R':\n",
    "        isx += 1\n",
    "        position = [isx, isy]\n",
    "    if direction == 'L':\n",
    "        isx -= 1\n",
    "        position = [isx, isy]\n",
    "    if direction == 'U':\n",
    "        isy += 1\n",
    "        position = [isx, isy]\n",
    "    if direction == 'D':\n",
    "        isy -= 1\n",
    "        position = [isx, isy]\n",
    "    return position"
   ]
  },
  {
   "cell_type": "code",
   "execution_count": 6,
   "id": "4d071887",
   "metadata": {},
   "outputs": [
    {
     "name": "stdout",
     "output_type": "stream",
     "text": [
      "X: 5\n",
      "Y: 4\n"
     ]
    }
   ],
   "source": [
    "def mapcreation(stepslist):\n",
    "    isnow = [0,0]\n",
    "    maxu = 0\n",
    "    maxd = 0\n",
    "    maxl = 0\n",
    "    maxr = 0\n",
    "    for step in stepslist:\n",
    "        direction, steps = step.split(' ')\n",
    "        steps = int(steps)\n",
    "        for i in range(steps):\n",
    "            isx, isy = isnow\n",
    "            isnow = dostep(isx, isy, direction)\n",
    "            isx, isy = isnow\n",
    "            \n",
    "            if isx > maxr:\n",
    "                maxr = isx\n",
    "            elif isx < maxl:\n",
    "                maxl = isx\n",
    "            if isy > maxu:\n",
    "                maxu = isy\n",
    "            elif isy < maxd:\n",
    "                maxd = isy\n",
    "\n",
    "        \n",
    "    maxx = (maxl*-1)+maxr\n",
    "    maxy = (maxd*-1)+maxu\n",
    "    return maxx, maxy\n",
    "\n",
    "sizex, sizey = mapcreation(input)\n",
    "print(f'X: {sizex}\\nY: {sizey}')"
   ]
  },
  {
   "cell_type": "code",
   "execution_count": 7,
   "id": "696fe34c",
   "metadata": {},
   "outputs": [],
   "source": [
    "def followhead(hpos, tpos):\n",
    "    \n",
    "    hisx, hisy = hpos\n",
    "    tisx, tisy = tpos\n",
    "    \n",
    "    xdiff = hisx-tisx\n",
    "    ydiff = hisy-tisy\n",
    "    \n",
    "    if xdiff <= 0:\n",
    "        xdif = xdiff*-1\n",
    "    else:\n",
    "        xdif = xdiff\n",
    "    if ydiff <= 0:\n",
    "        ydif = ydiff*-1\n",
    "    else:\n",
    "        ydif = ydiff\n",
    "        \n",
    "    #print(f'x-dif:{xdif}')\n",
    "    #print(f'y-dif:{ydif}')\n",
    "    \n",
    "    # movevertical\n",
    "    if xdif >= 2 and ydif >=1:\n",
    "        if xdiff < 0:\n",
    "            tisx -=1\n",
    "        elif xdiff > 0:\n",
    "            tisx += 1\n",
    "        if ydiff < 0:\n",
    "            tisy -=1\n",
    "        elif ydiff > 0:\n",
    "            tisy += 1\n",
    "        #tisx += 1\n",
    "        #tisy += 1\n",
    "    elif xdif >= 1 and ydif >=2:\n",
    "        if xdiff < 0:\n",
    "            tisx -=1\n",
    "        elif xdiff > 0:\n",
    "            tisx += 1\n",
    "        if ydiff < 0:\n",
    "            tisy -=1\n",
    "        elif ydiff > 0:\n",
    "            tisy += 1\n",
    "        \n",
    "        position = [tisx, tisy]\n",
    "        return position\n",
    "    \n",
    "    # move horizotal\n",
    "    if xdif > 1 and ydif == 0:\n",
    "        if xdiff < 0:\n",
    "            tisx -=1\n",
    "        elif xdiff > 0:\n",
    "            tisx += 1\n",
    "        position = [tisx, tisy]\n",
    "        return position\n",
    "    \n",
    "    # move vertical\n",
    "    if ydif > 1 and xdif == 0:\n",
    "        if ydiff < 0:\n",
    "            tisy -= 1\n",
    "        elif ydiff > 0:\n",
    "            tisy += 1\n",
    "        position = [tisx, tisy]\n",
    "        return position\n",
    "    \n",
    "    #print('fail')\n",
    "    position = [tisx, tisy]\n",
    "    return tpos"
   ]
  },
  {
   "cell_type": "code",
   "execution_count": 8,
   "id": "4b279ce8",
   "metadata": {
    "scrolled": true
   },
   "outputs": [
    {
     "name": "stdout",
     "output_type": "stream",
     "text": [
      "R 4\n",
      "H: [0, 0] -> [1, 0]\n",
      "T: [0, 0] -> [0, 0]\n",
      "H: [1, 0] -> [2, 0]\n",
      "T: [0, 0] -> [1, 0]\n",
      "H: [2, 0] -> [3, 0]\n",
      "T: [1, 0] -> [2, 0]\n",
      "H: [3, 0] -> [4, 0]\n",
      "T: [2, 0] -> [3, 0]\n",
      "U 4\n",
      "H: [4, 0] -> [4, 1]\n",
      "T: [3, 0] -> [3, 0]\n",
      "H: [4, 1] -> [4, 2]\n",
      "T: [3, 0] -> [4, 1]\n",
      "H: [4, 2] -> [4, 3]\n",
      "T: [4, 1] -> [4, 2]\n",
      "H: [4, 3] -> [4, 4]\n",
      "T: [4, 2] -> [4, 3]\n",
      "L 3\n",
      "H: [4, 4] -> [3, 4]\n",
      "T: [4, 3] -> [4, 3]\n",
      "H: [3, 4] -> [2, 4]\n",
      "T: [4, 3] -> [4, 3]\n",
      "H: [2, 4] -> [1, 4]\n",
      "T: [4, 3] -> [4, 3]\n",
      "D 1\n",
      "H: [1, 4] -> [1, 3]\n",
      "T: [4, 3] -> [3, 3]\n",
      "R 4\n",
      "H: [1, 3] -> [2, 3]\n",
      "T: [3, 3] -> [3, 3]\n",
      "H: [2, 3] -> [3, 3]\n",
      "T: [3, 3] -> [3, 3]\n",
      "H: [3, 3] -> [4, 3]\n",
      "T: [3, 3] -> [3, 3]\n",
      "H: [4, 3] -> [5, 3]\n",
      "T: [3, 3] -> [4, 3]\n",
      "D 1\n",
      "H: [5, 3] -> [5, 2]\n",
      "T: [4, 3] -> [4, 3]\n",
      "L 5\n",
      "H: [5, 2] -> [4, 2]\n",
      "T: [4, 3] -> [4, 3]\n",
      "H: [4, 2] -> [3, 2]\n",
      "T: [4, 3] -> [4, 3]\n",
      "H: [3, 2] -> [2, 2]\n",
      "T: [4, 3] -> [4, 3]\n",
      "H: [2, 2] -> [1, 2]\n",
      "T: [4, 3] -> [4, 3]\n",
      "H: [1, 2] -> [0, 2]\n",
      "T: [4, 3] -> [4, 3]\n",
      "R 2\n",
      "H: [0, 2] -> [1, 2]\n",
      "T: [4, 3] -> [4, 3]\n",
      "H: [1, 2] -> [2, 2]\n",
      "T: [4, 3] -> [4, 3]\n"
     ]
    }
   ],
   "source": [
    "def move(stepslist, maxx, maxy):\n",
    "    dfmap = pd.DataFrame()\n",
    "    ispos = {}\n",
    "    ispos['s'] = [0,0]\n",
    "    ispos['H'] = [0,0]\n",
    "    ispos['T'] = [0,0]\n",
    "    ispos['x'] = [0,0] # X = #\n",
    "    washere = []\n",
    "    \n",
    "    dfmap = [{0: [ispos['H'], ispos['T'], ispos['s'], ispos['x']]}]\n",
    "    dfmap = pd.DataFrame.from_dict(dfmap)\n",
    "    \n",
    "    \n",
    "    for steplist in stepslist:\n",
    "        print(steplist)\n",
    "        direction, steps = steplist.split(' ')\n",
    "        steps = int(steps)\n",
    "        # every single step if move\n",
    "        for i in range(steps):\n",
    "            # is position form H\n",
    "            hisx, hisy = ispos['H']\n",
    "            tisx, tisy = ispos['T']\n",
    "            # new position from H\n",
    "            ispos['H'] = dostep(hisx, hisy, direction)\n",
    "            print(f'H: {[hisx, hisy]} -> {ispos[\"H\"]}')\n",
    "            ispos['T'] = followhead(ispos['H'], ispos['T'])\n",
    "            print(f'T: {[tisx, tisy]} -> {ispos[\"T\"]}')\n",
    "            washere.append(ispos['T'])\n",
    "            \n",
    "    #washere = list(set(washere))\n",
    "    return washere\n",
    "\n",
    "xxx = move(input, sizex, sizey)"
   ]
  },
  {
   "cell_type": "code",
   "execution_count": 9,
   "id": "b326c788",
   "metadata": {},
   "outputs": [
    {
     "data": {
      "text/plain": [
       "8"
      ]
     },
     "execution_count": 9,
     "metadata": {},
     "output_type": "execute_result"
    }
   ],
   "source": [
    "nr = 0\n",
    "singlepos = []\n",
    "for pos in xxx:\n",
    "    if pos not in singlepos:\n",
    "        singlepos.append(pos)\n",
    "        nr += 1\n",
    "        \n",
    "nr"
   ]
  },
  {
   "cell_type": "markdown",
   "id": "64ba6c7a",
   "metadata": {},
   "source": [
    "# --- Part Two ---\n",
    "\n",
    "Your device's communication system is correctly detecting packets, but still isn't working. It looks like it also needs to look for **messages**.\n",
    "\n",
    "A **start-of-message** marker is just like a start-of-packet marker, except it consists of **14 distinct characters** rather than 4.\n",
    "\n",
    "Here are the first positions of start-of-message markers for all of the above examples:\n",
    "\n",
    "- `mjqjpqmgbljsphdztnvjfqwrcgsmlb`: first marker after character `19`\n",
    "- `bvwbjplbgvbhsrlpgdmjqwftvncz`: first marker after character `23`\n",
    "- `nppdvjthqldpwncqszvftbrmjlhg`: first marker after character `23`\n",
    "- `nznrnfrfntjfmvfwmzdfjlvtqnbhcprsg`: first marker after character `29`\n",
    "- `zcfzfwzzqfrljwzlrfnpqdbhtmscgvjw`: first marker after character `26`\n",
    "\n",
    "**How many characters need to be processed before the first start-of-message marker is detected?**"
   ]
  },
  {
   "cell_type": "code",
   "execution_count": 10,
   "id": "0da493aa",
   "metadata": {},
   "outputs": [
    {
     "ename": "NameError",
     "evalue": "name 'findsignal' is not defined",
     "output_type": "error",
     "traceback": [
      "\u001b[0;31m---------------------------------------------------------------------------\u001b[0m",
      "\u001b[0;31mNameError\u001b[0m                                 Traceback (most recent call last)",
      "Input \u001b[0;32mIn [10]\u001b[0m, in \u001b[0;36m<cell line: 1>\u001b[0;34m()\u001b[0m\n\u001b[0;32m----> 1\u001b[0m x \u001b[38;5;241m=\u001b[39m \u001b[43mfindsignal\u001b[49m(\u001b[38;5;28minput\u001b[39m, \u001b[38;5;241m14\u001b[39m)\n",
      "\u001b[0;31mNameError\u001b[0m: name 'findsignal' is not defined"
     ]
    }
   ],
   "source": [
    "x = findsignal(input, 14)"
   ]
  },
  {
   "cell_type": "code",
   "execution_count": null,
   "id": "7ce8db31",
   "metadata": {},
   "outputs": [],
   "source": [
    "x"
   ]
  },
  {
   "cell_type": "code",
   "execution_count": null,
   "id": "475767ae",
   "metadata": {},
   "outputs": [],
   "source": []
  }
 ],
 "metadata": {
  "kernelspec": {
   "display_name": "Python 3 (ipykernel)",
   "language": "python",
   "name": "python3"
  },
  "language_info": {
   "codemirror_mode": {
    "name": "ipython",
    "version": 3
   },
   "file_extension": ".py",
   "mimetype": "text/x-python",
   "name": "python",
   "nbconvert_exporter": "python",
   "pygments_lexer": "ipython3",
   "version": "3.9.10+"
  }
 },
 "nbformat": 4,
 "nbformat_minor": 5
}
