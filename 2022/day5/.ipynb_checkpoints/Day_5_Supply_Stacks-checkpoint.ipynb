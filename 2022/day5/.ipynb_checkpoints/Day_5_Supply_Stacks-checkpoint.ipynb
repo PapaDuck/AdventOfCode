{
 "cells": [
  {
   "cell_type": "markdown",
   "id": "993d95a2",
   "metadata": {},
   "source": [
    "# --- Day 4: Camp Cleanup ---\n",
    "\n",
    "\n",
    "Space needs to be cleared before the last supplies can be unloaded from the ships, and so several Elves have been assigned the job of cleaning up sections of the camp. Every section has a unique **ID number**, and each Elf is assigned a range of section IDs.\n",
    "\n",
    "However, as some of the Elves compare their section assignments with each other, they've noticed that many of the assignments overlap. To try to quickly find **overlaps** and reduce duplicated effort, the Elves pair up and make a **big list of the section assignments for each pair** (your puzzle input).\n",
    "\n",
    "For example, consider the following list of section assignment pairs:\n",
    "```\n",
    "2-4,6-8\n",
    "2-3,4-5\n",
    "5-7,7-9\n",
    "2-8,3-7\n",
    "6-6,4-6\n",
    "2-6,4-8\n",
    "```\n",
    "For the first few pairs, this list means:\n",
    "\n",
    "- Within the first pair of Elves, the first Elf was assigned sections `2-4` (sections `2`, `3`, and `4`), while the second Elf was assigned sections `6-8` (sections `6`, `7`, `8`).\n",
    "- The Elves in the second pair were each assigned two sections.\n",
    "- The Elves in the third pair were each assigned three sections: one got sections `5`, `6`, and `7`, while the other also got `7`, plus `8` and `9`.\n",
    "\n",
    "This example list uses single-digit section IDs to make it easier to draw; your actual list might contain larger numbers. Visually, these pairs of section assignments look like this:\n",
    "```\n",
    ".234.....  2-4\n",
    ".....678.  6-8\n",
    "\n",
    ".23......  2-3\n",
    "...45....  4-5\n",
    "\n",
    "....567..  5-7\n",
    "......789  7-9\n",
    "\n",
    ".2345678.  2-8\n",
    "..34567..  3-7\n",
    "\n",
    ".....6...  6-6\n",
    "...456...  4-6\n",
    "\n",
    ".23456...  2-6\n",
    "...45678.  4-8\n",
    "```\n",
    "Some of the pairs have noticed that one of their assignments **fully contains** the other. For example, `2-8` fully contains `3-7`, and `6-6` is fully contained by `4-6`. In pairs where one assignment fully contains the other, one Elf in the pair would be exclusively cleaning sections their partner will already be cleaning, so these seem like the most in need of reconsideration. In this example, there are `2` such pairs.\n",
    "\n",
    "**In how many assignment pairs does one range fully contain the other?**"
   ]
  },
  {
   "cell_type": "code",
   "execution_count": 210,
   "id": "3406244c",
   "metadata": {},
   "outputs": [],
   "source": [
    "#imports\n",
    "import re"
   ]
  },
  {
   "cell_type": "code",
   "execution_count": 211,
   "id": "b3f8933c",
   "metadata": {},
   "outputs": [],
   "source": [
    "input = 'input.txt'"
   ]
  },
  {
   "cell_type": "code",
   "execution_count": 212,
   "id": "767fc474",
   "metadata": {},
   "outputs": [],
   "source": [
    "def readinput(file):\n",
    "    with open(file) as f:\n",
    "        #lines = f.readlines()\n",
    "        lines = f.read().splitlines() \n",
    "    return lines\n",
    "\n",
    "input = readinput(input)"
   ]
  },
  {
   "cell_type": "code",
   "execution_count": 213,
   "id": "2dfd6d5b",
   "metadata": {},
   "outputs": [
    {
     "data": {
      "text/plain": [
       "['    [D]    ',\n",
       " '[N] [C]    ',\n",
       " '[Z] [M] [P]',\n",
       " ' 1   2   3 ',\n",
       " '',\n",
       " 'move 1 from 2 to 1',\n",
       " 'move 3 from 1 to 3',\n",
       " 'move 2 from 2 to 1',\n",
       " 'move 1 from 1 to 2']"
      ]
     },
     "execution_count": 213,
     "metadata": {},
     "output_type": "execute_result"
    }
   ],
   "source": [
    "input"
   ]
  },
  {
   "cell_type": "code",
   "execution_count": 214,
   "id": "313f8768",
   "metadata": {},
   "outputs": [],
   "source": [
    "def createstackofcrates(rearrangementlist, stackcount):\n",
    "    stackofcrates = {}\n",
    "    #stackhight = 0 \n",
    "    stacklength = 0\n",
    "    #stackcount = 0\n",
    "    \n",
    "    # calculate the longest stack\n",
    "    for line in rearrangementlist:\n",
    "        if line == '':\n",
    "            break\n",
    "        else:\n",
    "            stacklength +=1\n",
    "    stacklength -= 1\n",
    "    \n",
    "    # creating stacks as dictionary\n",
    "    stacks = {}\n",
    "    stackline = {}\n",
    "    for crate in range(stacklength):\n",
    "        stackposition = 0\n",
    "        for stackno in range(1, stackcount+1):\n",
    "            \n",
    "            stackofcrates[stackno] = []\n",
    "            \n",
    "            #print(f'stack {stackno} - crate {crate}')\n",
    "            cratecontent = rearrangementlist[crate][stackposition:stackposition+3]\n",
    "            #print(f'--{cratecontent}--\\n')\n",
    "            if cratecontent[0] == '[':\n",
    "                stackline[stackno] = cratecontent\n",
    "            \n",
    "            \n",
    "        # next stackposition\n",
    "            stackposition += 4\n",
    "        stacks[crate] = stackline\n",
    "        stackline = {}\n",
    "    \n",
    "    \n",
    "    #for i in reversed(stacks):\n",
    "    for value in reversed(stacks.values()):\n",
    "        # ZEILE\n",
    "        #print(value)\n",
    "        for stackno, cratecontent in value.items():\n",
    "            stackofcrates[stackno].append(cratecontent)\n",
    "            \n",
    "    #print(stackofcrates)\n",
    "    return stackofcrates"
   ]
  },
  {
   "cell_type": "code",
   "execution_count": 215,
   "id": "a5b6141a",
   "metadata": {
    "scrolled": false
   },
   "outputs": [
    {
     "data": {
      "text/plain": [
       "{1: ['[Z]', '[N]'], 2: ['[M]', '[C]', '[D]'], 3: ['[P]']}"
      ]
     },
     "execution_count": 215,
     "metadata": {},
     "output_type": "execute_result"
    }
   ],
   "source": [
    "crates = createstackofcrates(input, 3)\n",
    "crates"
   ]
  },
  {
   "cell_type": "code",
   "execution_count": 216,
   "id": "b78ab949",
   "metadata": {},
   "outputs": [],
   "source": [
    "def movecrates(rearrangementlist):\n",
    "    stackofcrates = {}\n",
    "    #stackhight = 0 \n",
    "    stacklength = 0\n",
    "    #stackcount = 0\n",
    "    \n",
    "    # MOVE (how many)1 FROM (STACKNO)2 TO (STACKNO)1\n",
    "\n",
    "    for line in rearrangementlist:\n",
    "        if line[:4] == 'move':\n",
    "            numbers = re.findall(r'\\d+', line)\n",
    "                \n",
    "            for steps in range(1, int(numbers[0])+1):\n",
    "                fromcrate = int(numbers[1])\n",
    "                tocrate = int(numbers[2])\n",
    "\n",
    "                # copies the stack\n",
    "                movedcrate = crates[fromcrate][-1]\n",
    "                \n",
    "                # deletes crate from stack\n",
    "                crates[fromcrate].pop(-1)\n",
    "                \n",
    "                # adds crate to new stack\n",
    "                crates[tocrate].append(movedcrate)\n",
    "\n",
    "movecrates(input)"
   ]
  },
  {
   "cell_type": "code",
   "execution_count": 217,
   "id": "36597242",
   "metadata": {},
   "outputs": [
    {
     "ename": "ValueError",
     "evalue": "not enough values to unpack (expected 2, got 1)",
     "output_type": "error",
     "traceback": [
      "\u001b[1;31m---------------------------------------------------------------------------\u001b[0m",
      "\u001b[1;31mValueError\u001b[0m                                Traceback (most recent call last)",
      "Cell \u001b[1;32mIn [217], line 5\u001b[0m\n\u001b[0;32m      2\u001b[0m     \u001b[38;5;28;01mfor\u001b[39;00m key, value \u001b[38;5;129;01min\u001b[39;00m cratelist\u001b[38;5;241m.\u001b[39mvalues():\n\u001b[0;32m      3\u001b[0m         \u001b[38;5;28mprint\u001b[39m(key)\n\u001b[1;32m----> 5\u001b[0m \u001b[43mtopofeachstack\u001b[49m\u001b[43m(\u001b[49m\u001b[43mcrates\u001b[49m\u001b[43m)\u001b[49m\n",
      "Cell \u001b[1;32mIn [217], line 2\u001b[0m, in \u001b[0;36mtopofeachstack\u001b[1;34m(cratelist)\u001b[0m\n\u001b[0;32m      1\u001b[0m \u001b[38;5;28;01mdef\u001b[39;00m \u001b[38;5;21mtopofeachstack\u001b[39m(cratelist):\n\u001b[1;32m----> 2\u001b[0m     \u001b[38;5;28;01mfor\u001b[39;00m key, value \u001b[38;5;129;01min\u001b[39;00m cratelist\u001b[38;5;241m.\u001b[39mvalues():\n\u001b[0;32m      3\u001b[0m         \u001b[38;5;28mprint\u001b[39m(key)\n",
      "\u001b[1;31mValueError\u001b[0m: not enough values to unpack (expected 2, got 1)"
     ]
    }
   ],
   "source": [
    "def topofeachstack(cratelist):\n",
    "    # itarate dict\n",
    "    for key, value in cratelist.values():\n",
    "        print(key)\n",
    "        \n",
    "topofeachstack(crates)"
   ]
  },
  {
   "cell_type": "markdown",
   "id": "0a59bfb6",
   "metadata": {},
   "source": [
    "# --- Part Two ---\n",
    "\n",
    "It seems like there is still quite a bit of duplicate work planned. Instead, the Elves would like to know the number of pairs that **overlap at all**.\n",
    "\n",
    "In the above example, the first two pairs (`2-4,6-8` and `2-3,4-5`) don't overlap, while the remaining four pairs (`5-7,7-9`, `2-8,3-7`, `6-6,4-6`, and `2-6,4-8`) do overlap:\n",
    "\n",
    "- `5-7,7-9` overlaps in a single section, `7`.\n",
    "- `2-8,3-7` overlaps all of the sections `3` through `7`.\n",
    "- `6-6,4-6` overlaps in a single section, `6`.\n",
    "- `2-6,4-8` overlaps in sections `4`, `5`, and `6`.\n",
    "\n",
    "So, in this example, the number of overlapping assignment pairs is `4`.\n",
    "\n",
    "**In how many assignment pairs do the ranges overlap?**"
   ]
  },
  {
   "cell_type": "code",
   "execution_count": 105,
   "id": "ef33dddd",
   "metadata": {},
   "outputs": [],
   "source": [
    "def countsection(biglist):\n",
    "    elf1 = []\n",
    "    elf2 = []\n",
    "    \n",
    "    partcontainedpairs = 0\n",
    "    \n",
    "    # compare each elves-pair \n",
    "    for section in biglist:\n",
    "        # elf one and elf two ar splited by an ,\n",
    "        elf1, elf2 = section.split(',')\n",
    "        \n",
    "        # list each sectionID from elf 1\n",
    "        startsection, endsection = elf1.split('-')\n",
    "        startsection = int(startsection)\n",
    "        endsection = int(endsection)+1\n",
    "        elf1 = []\n",
    "        # write every single sectionID in the elf-list\n",
    "        for singlesection in range(startsection, endsection):\n",
    "            elf1.append(singlesection)\n",
    "        \n",
    "        # list each sectionID from elf 2\n",
    "        startsection, endsection = elf2.split('-')\n",
    "        startsection = int(startsection)\n",
    "        endsection = int(endsection)+1\n",
    "        elf2 = []\n",
    "        # write every single sectionID in the elf-list\n",
    "        for singlesection in range(startsection, endsection):\n",
    "            elf2.append(singlesection)\n",
    "        \n",
    "        # test if one sectionIDs is overlaping the other list\n",
    "        partinit = False\n",
    "        for e1section in elf1:\n",
    "            if e1section in elf2:\n",
    "                partinit = True\n",
    "                \n",
    "        if partinit:\n",
    "            partcontainedpairs += 1\n",
    "            \n",
    "    return partcontainedpairs"
   ]
  },
  {
   "cell_type": "code",
   "execution_count": 106,
   "id": "94999582",
   "metadata": {},
   "outputs": [
    {
     "data": {
      "text/plain": [
       "914"
      ]
     },
     "execution_count": 106,
     "metadata": {},
     "output_type": "execute_result"
    }
   ],
   "source": [
    "countsection(input)"
   ]
  },
  {
   "cell_type": "code",
   "execution_count": null,
   "id": "1579b200",
   "metadata": {},
   "outputs": [],
   "source": []
  }
 ],
 "metadata": {
  "kernelspec": {
   "display_name": "Python 3 (ipykernel)",
   "language": "python",
   "name": "python3"
  },
  "language_info": {
   "codemirror_mode": {
    "name": "ipython",
    "version": 3
   },
   "file_extension": ".py",
   "mimetype": "text/x-python",
   "name": "python",
   "nbconvert_exporter": "python",
   "pygments_lexer": "ipython3",
   "version": "3.9.13"
  }
 },
 "nbformat": 4,
 "nbformat_minor": 5
}
