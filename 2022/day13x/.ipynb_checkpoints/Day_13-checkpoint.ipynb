{
 "cells": [
  {
   "cell_type": "markdown",
   "id": "d949df2b",
   "metadata": {},
   "source": [
    "# --- Day 12: Hill Climbing Algorithm ---\n",
    "\n",
    "You try contacting the Elves using your handheld device, but the river you're following must be too low to get a decent signal.\n",
    "\n",
    "You ask the device for a heightmap of the surrounding area (your puzzle input). The heightmap shows the local area from above broken into a grid; the elevation of each square of the grid is given by a single lowercase letter, where `a` is the lowest elevation, `b` is the next-lowest, and so on up to the highest elevation, `z`.\n",
    "\n",
    "Also included on the heightmap are marks for your current position (`S`) and the location that should get the best signal (`E`). Your current position (`S`) has elevation a, and the location that should get the best signal (`E`) has elevation `z`.\n",
    "\n",
    "You'd like to reach `E`, but to save energy, you should do it in **as few steps as possible**. During each step, you can move exactly one square up, down, left, or right. To avoid needing to get out your climbing gear, the elevation of the destination square can be **at most one higher** than the elevation of your current square; that is, if your current elevation is `m`, you could step to elevation `n`, but not to elevation `o`. (This also means that the elevation of the destination square can be much lower than the elevation of your current square.)\n",
    "\n",
    "For example:\n",
    "```\n",
    "Sabqponm\n",
    "abcryxxl\n",
    "accszExk\n",
    "acctuvwj\n",
    "abdefghi\n",
    "```\n",
    "Here, you start in the top-left corner; your goal is near the middle. You could start by moving down or right, but eventually you'll need to head toward the `e` at the bottom. From there, you can spiral around to the goal:\n",
    "```\n",
    "v..v<<<<\n",
    ">v.vv<<^\n",
    ".>vv>E^^\n",
    "..v>>>^^\n",
    "..>>>>>^\n",
    "```\n",
    "In the above diagram, the symbols indicate whether the path exits each square moving up (`^`), down (`v`), left (`<`), or right (`>`). The location that should get the best signal is still `E`, and `.` marks unvisited squares.\n",
    "\n",
    "This path reaches the goal in `31` steps, the fewest possible.\n",
    "\n",
    "**What is the fewest steps required to move from your current position to the location that should get the best signal?**"
   ]
  },
  {
   "cell_type": "code",
   "execution_count": 1,
   "id": "a657864b",
   "metadata": {},
   "outputs": [],
   "source": [
    "#imports\n",
    "import pandas as pd\n",
    "import re"
   ]
  },
  {
   "cell_type": "code",
   "execution_count": 2,
   "id": "6d5e94c3",
   "metadata": {},
   "outputs": [],
   "source": [
    "input = 'input.txt'\n",
    "input = 'testinput.txt'"
   ]
  },
  {
   "cell_type": "code",
   "execution_count": 3,
   "id": "40dbcc5a",
   "metadata": {},
   "outputs": [],
   "source": [
    "def readinput(file):\n",
    "    with open(file) as f:\n",
    "        #lines = f.readlines()\n",
    "        lines = f.read().splitlines() \n",
    "    return lines\n",
    "\n",
    "input = readinput(input)"
   ]
  },
  {
   "cell_type": "code",
   "execution_count": 4,
   "id": "cb95d20b",
   "metadata": {},
   "outputs": [
    {
     "data": {
      "text/plain": [
       "['Sabqponm', 'abcryxxl', 'accszExk', 'acctuvwj', 'abdefghi']"
      ]
     },
     "execution_count": 4,
     "metadata": {},
     "output_type": "execute_result"
    }
   ],
   "source": [
    "#input = input[0]\n",
    "input"
   ]
  },
  {
   "cell_type": "code",
   "execution_count": 23,
   "id": "a9c17768",
   "metadata": {},
   "outputs": [
    {
     "data": {
      "text/html": [
       "<div>\n",
       "<style scoped>\n",
       "    .dataframe tbody tr th:only-of-type {\n",
       "        vertical-align: middle;\n",
       "    }\n",
       "\n",
       "    .dataframe tbody tr th {\n",
       "        vertical-align: top;\n",
       "    }\n",
       "\n",
       "    .dataframe thead th {\n",
       "        text-align: right;\n",
       "    }\n",
       "</style>\n",
       "<table border=\"1\" class=\"dataframe\">\n",
       "  <thead>\n",
       "    <tr style=\"text-align: right;\">\n",
       "      <th></th>\n",
       "      <th>0</th>\n",
       "      <th>1</th>\n",
       "      <th>2</th>\n",
       "      <th>3</th>\n",
       "      <th>4</th>\n",
       "      <th>5</th>\n",
       "      <th>6</th>\n",
       "      <th>7</th>\n",
       "    </tr>\n",
       "  </thead>\n",
       "  <tbody>\n",
       "    <tr>\n",
       "      <th>0</th>\n",
       "      <td>S</td>\n",
       "      <td>a</td>\n",
       "      <td>b</td>\n",
       "      <td>q</td>\n",
       "      <td>p</td>\n",
       "      <td>o</td>\n",
       "      <td>n</td>\n",
       "      <td>m</td>\n",
       "    </tr>\n",
       "    <tr>\n",
       "      <th>1</th>\n",
       "      <td>a</td>\n",
       "      <td>b</td>\n",
       "      <td>c</td>\n",
       "      <td>r</td>\n",
       "      <td>y</td>\n",
       "      <td>x</td>\n",
       "      <td>x</td>\n",
       "      <td>l</td>\n",
       "    </tr>\n",
       "    <tr>\n",
       "      <th>2</th>\n",
       "      <td>a</td>\n",
       "      <td>c</td>\n",
       "      <td>c</td>\n",
       "      <td>s</td>\n",
       "      <td>z</td>\n",
       "      <td>E</td>\n",
       "      <td>x</td>\n",
       "      <td>k</td>\n",
       "    </tr>\n",
       "    <tr>\n",
       "      <th>3</th>\n",
       "      <td>a</td>\n",
       "      <td>c</td>\n",
       "      <td>c</td>\n",
       "      <td>t</td>\n",
       "      <td>u</td>\n",
       "      <td>v</td>\n",
       "      <td>w</td>\n",
       "      <td>j</td>\n",
       "    </tr>\n",
       "    <tr>\n",
       "      <th>4</th>\n",
       "      <td>a</td>\n",
       "      <td>b</td>\n",
       "      <td>d</td>\n",
       "      <td>e</td>\n",
       "      <td>f</td>\n",
       "      <td>g</td>\n",
       "      <td>h</td>\n",
       "      <td>i</td>\n",
       "    </tr>\n",
       "  </tbody>\n",
       "</table>\n",
       "</div>"
      ],
      "text/plain": [
       "   0  1  2  3  4  5  6  7\n",
       "0  S  a  b  q  p  o  n  m\n",
       "1  a  b  c  r  y  x  x  l\n",
       "2  a  c  c  s  z  E  x  k\n",
       "3  a  c  c  t  u  v  w  j\n",
       "4  a  b  d  e  f  g  h  i"
      ]
     },
     "execution_count": 23,
     "metadata": {},
     "output_type": "execute_result"
    }
   ],
   "source": [
    "def maptodf(fullmap):\n",
    "    map_dict = {}\n",
    "    for rows in range(len(fullmap)):\n",
    "        row = fullmap[rows]\n",
    "        steps = list(row)\n",
    "        map_dict[rows] = steps\n",
    "        \n",
    "    dfmap = pd.DataFrame(map_dict)\n",
    "    dfmap = dfmap.transpose()\n",
    "    return dfmap\n",
    "\n",
    "dfmap = maptodf(input)\n",
    "dfmap"
   ]
  },
  {
   "cell_type": "code",
   "execution_count": 49,
   "id": "595a11ca",
   "metadata": {},
   "outputs": [
    {
     "name": "stdout",
     "output_type": "stream",
     "text": [
      "YES\n",
      "6\n",
      "3\n"
     ]
    }
   ],
   "source": [
    "row_no = 0\n",
    "for column in dfmap:\n",
    "    row_no += 1\n",
    "    \n",
    "    x = dfmap[column]\n",
    "    for value in x:\n",
    "        column_no += 1\n",
    "        if value == 'E':\n",
    "            print('YES')\n",
    "            print(row_no)\n",
    "            print(column_no)"
   ]
  },
  {
   "cell_type": "code",
   "execution_count": 22,
   "id": "2dfa607d",
   "metadata": {},
   "outputs": [
    {
     "name": "stdout",
     "output_type": "stream",
     "text": [
      "0\n",
      "S\n",
      "a\n",
      "a\n",
      "a\n",
      "a\n",
      "1\n",
      "a\n",
      "b\n",
      "c\n",
      "c\n",
      "b\n",
      "2\n",
      "b\n",
      "c\n",
      "c\n",
      "c\n",
      "d\n",
      "3\n",
      "q\n",
      "r\n",
      "s\n",
      "t\n",
      "e\n",
      "4\n",
      "p\n",
      "y\n",
      "z\n",
      "u\n",
      "f\n",
      "5\n",
      "o\n",
      "x\n",
      "E\n",
      "v\n",
      "g\n",
      "6\n",
      "n\n",
      "x\n",
      "x\n",
      "w\n",
      "h\n",
      "7\n",
      "m\n",
      "l\n",
      "k\n",
      "j\n",
      "i\n"
     ]
    },
    {
     "data": {
      "text/plain": [
       "[0, -1]"
      ]
     },
     "execution_count": 22,
     "metadata": {},
     "output_type": "execute_result"
    }
   ],
   "source": [
    "def getmapsize(fullmap):\n",
    "    # min steps map\n",
    "    min = 0\n",
    "    \n",
    "    # max steps map\n",
    "    max = 0\n",
    "    for column in fullmap:\n",
    "        print(column)\n",
    "        for i in fullmap[column]:\n",
    "            print(i)\n",
    "        #steps = list(row)\n",
    "        #for step in steps:\n",
    "        #    max += 1\n",
    "    return [min, max-1]\n",
    "\n",
    "getmapsize(dfmap)"
   ]
  },
  {
   "cell_type": "code",
   "execution_count": 19,
   "id": "a4cb2062",
   "metadata": {},
   "outputs": [],
   "source": [
    "def xxx(steps):\n",
    "    # S = me\n",
    "    # E = best signal\n",
    "    \n",
    "    print(x)\n",
    "    return True"
   ]
  }
 ],
 "metadata": {
  "kernelspec": {
   "display_name": "Python 3 (ipykernel)",
   "language": "python",
   "name": "python3"
  },
  "language_info": {
   "codemirror_mode": {
    "name": "ipython",
    "version": 3
   },
   "file_extension": ".py",
   "mimetype": "text/x-python",
   "name": "python",
   "nbconvert_exporter": "python",
   "pygments_lexer": "ipython3",
   "version": "3.11.0"
  }
 },
 "nbformat": 4,
 "nbformat_minor": 5
}
