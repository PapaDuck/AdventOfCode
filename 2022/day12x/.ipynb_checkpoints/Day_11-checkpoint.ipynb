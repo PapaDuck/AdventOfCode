{
 "cells": [
  {
   "cell_type": "markdown",
   "id": "d949df2b",
   "metadata": {},
   "source": [
    "# --- Day 11: Monkey in the Middle ---\n",
    "\n",
    "\n",
    "\n",
    "**What is the level of monkey business after 20 rounds of stuff-slinging simian shenanigans?**"
   ]
  },
  {
   "cell_type": "code",
   "execution_count": 1,
   "id": "a657864b",
   "metadata": {},
   "outputs": [],
   "source": [
    "#imports\n",
    "import pandas as pd\n",
    "import re"
   ]
  },
  {
   "cell_type": "code",
   "execution_count": 16,
   "id": "6d5e94c3",
   "metadata": {},
   "outputs": [],
   "source": [
    "input = 'input.txt'\n",
    "input = 'testinput.txt'"
   ]
  },
  {
   "cell_type": "code",
   "execution_count": 17,
   "id": "40dbcc5a",
   "metadata": {},
   "outputs": [],
   "source": [
    "def readinput(file):\n",
    "    with open(file) as f:\n",
    "        #lines = f.readlines()\n",
    "        lines = f.read().splitlines() \n",
    "    return lines\n",
    "\n",
    "input = readinput(input)"
   ]
  },
  {
   "cell_type": "code",
   "execution_count": 18,
   "id": "cb95d20b",
   "metadata": {},
   "outputs": [],
   "source": [
    "#input = input[0]\n",
    "#input"
   ]
  },
  {
   "cell_type": "code",
   "execution_count": 19,
   "id": "a4cb2062",
   "metadata": {},
   "outputs": [],
   "source": [
    "def monkeydic(monkeylist):\n",
    "    allmonkeys = {}\n",
    "    monkey = {}\n",
    "    monkeynumber = None\n",
    "    startingitems = []\n",
    "    operations = []\n",
    "    test = None\n",
    "    trueto = None\n",
    "    falseto = None\n",
    "    throwto = []\n",
    "    \n",
    "    for monkeyrow in monkeylist:\n",
    "        # find Monkey number\n",
    "        monkeyrow = monkeyrow.strip()\n",
    "        if monkeyrow[:6] == 'Monkey':\n",
    "            monkeynumber = int(re.findall(r'\\d+', monkeyrow)[0])\n",
    "        # find Monkey starting items\n",
    "        elif monkeyrow[:8] == 'Starting':\n",
    "            startingitems = re.findall(r'\\d+', monkeyrow)\n",
    "            startingitems = list(map(int, startingitems))\n",
    "        elif monkeyrow[:9] == 'Operation':\n",
    "            monkeyrow = monkeyrow[17:].split(' ')\n",
    "            for operaters in monkeyrow[1:]:\n",
    "                operations.append(operaters)\n",
    "        elif monkeyrow[:4] == 'Test':\n",
    "            test = int(re.findall(r'\\d+', monkeyrow)[0])\n",
    "        elif monkeyrow[:7] == 'If true':\n",
    "            trueto = int(re.findall(r'\\d+', monkeyrow)[0])\n",
    "        elif monkeyrow[:8] == 'If false':\n",
    "            falseto = int(re.findall(r'\\d+', monkeyrow)[0])\n",
    "            throwto = [trueto, falseto]\n",
    "            \n",
    "            \n",
    "        # add monkey details to dict\n",
    "        if monkeyrow == '':\n",
    "            monkey['startingitems'] = startingitems\n",
    "            monkey['operation'] = operations\n",
    "            monkey['test'] = test\n",
    "            monkey['throwto'] = throwto\n",
    "            monkey['inspecteditems'] = 0\n",
    "            \n",
    "            allmonkeys[monkeynumber] = monkey\n",
    "            monkey = {}\n",
    "            monkeynumber = None\n",
    "            startingitems = []\n",
    "            operations = []\n",
    "            test = None\n",
    "            trueto = None\n",
    "            falseto = None\n",
    "            throwto = []\n",
    "    monkey['startingitems'] = startingitems\n",
    "    monkey['operation'] = operations\n",
    "    monkey['test'] = test\n",
    "    monkey['throwto'] = throwto\n",
    "    monkey['inspecteditems'] = 0\n",
    "            \n",
    "    allmonkeys[monkeynumber] = monkey\n",
    "    monkey = {}\n",
    "    monkeynumber = None\n",
    "    startingitems = []\n",
    "    operations = []\n",
    "    test = None\n",
    "    trueto = None\n",
    "    falseto = None\n",
    "    throwto = []\n",
    "        \n",
    "    return allmonkeys"
   ]
  },
  {
   "cell_type": "code",
   "execution_count": 6,
   "id": "a404891b",
   "metadata": {},
   "outputs": [],
   "source": [
    "monkeys = monkeydic(input)"
   ]
  },
  {
   "cell_type": "code",
   "execution_count": 7,
   "id": "bc4f9862",
   "metadata": {},
   "outputs": [],
   "source": [
    "def inspectandthrow(monkey, monkeyno):\n",
    "    startingitems = monkey['startingitems']\n",
    "    for item in startingitems:\n",
    "        \n",
    "        inspecteditems = monkey['inspecteditems']\n",
    "        inspecteditems += 1\n",
    "        monkey['inspecteditems'] = inspecteditems\n",
    "        \n",
    "        #print(f'Monkey {monkeyno} inspects item with level {item}')\n",
    "        item = int(item)\n",
    "        if monkey['operation'][1] == 'old':\n",
    "            value = int(item)\n",
    "        else:\n",
    "            value = int(monkey['operation'][1])\n",
    "        # operator + or *\n",
    "        if monkey['operation'][0] == '+':\n",
    "            worrylevel = item + value\n",
    "        elif monkey['operation'][0] == '*':\n",
    "            worrylevel = item * value\n",
    "        \n",
    "        # worrylevel / 3 and downround\n",
    "        worrylevel = int(worrylevel//3)\n",
    "        #print(f'Monkey gets bored with item. Worry level is divided by 3 to {worrylevel}')\n",
    "        test = int(monkey['test'])\n",
    "        if worrylevel%test == 0:\n",
    "            #print(f'Current worry level IS divisible by {test}')\n",
    "            truemonkey = int(monkey['throwto'][0])\n",
    "            #print(f'Item with worry level {worrylevel} is thrown to monkey {truemonkey}.')\n",
    "            monkeys[truemonkey]['startingitems'].append(worrylevel)\n",
    "        else:\n",
    "            #print(f'Current worry level is NOT divisible by {test}.')\n",
    "            falsemonkey = int(monkey['throwto'][1])\n",
    "            #print(f'Item with worry level {worrylevel} is thrown to monkey {falsemonkey}.')\n",
    "            monkeys[falsemonkey]['startingitems'].append(worrylevel)\n",
    "    monkey['startingitems'] = []\n",
    "    return monkey"
   ]
  },
  {
   "cell_type": "code",
   "execution_count": 8,
   "id": "d40bba1e",
   "metadata": {},
   "outputs": [],
   "source": [
    "def roundmonkeyworks(monkeys, rounds):\n",
    "    for i in range(1,rounds+1):\n",
    "        # for ever monkey\n",
    "        for monkeyno in monkeys:\n",
    "            monkey = monkeys[monkeyno]\n",
    "            monkey = inspectandthrow(monkey, monkeyno)\n",
    "    return"
   ]
  },
  {
   "cell_type": "code",
   "execution_count": 9,
   "id": "b326c788",
   "metadata": {},
   "outputs": [],
   "source": [
    "roundmonkeyworks(monkeys, 20)"
   ]
  },
  {
   "cell_type": "code",
   "execution_count": 12,
   "id": "eeda7447",
   "metadata": {},
   "outputs": [],
   "source": [
    "def mostactivemonkeys(monkeys, number):\n",
    "    mostactivemonkeys = []\n",
    "    for inspecteditems in monkeys.values():\n",
    "        inspecteditems = inspecteditems['inspecteditems']\n",
    "        mostactivemonkeys.append(inspecteditems)\n",
    "    mostactivemonkeys.sort()\n",
    "    monkeybusiness = mostactivemonkeys[-1]*mostactivemonkeys[-2]\n",
    "    return monkeybusiness"
   ]
  },
  {
   "cell_type": "code",
   "execution_count": 13,
   "id": "e7f67a22",
   "metadata": {},
   "outputs": [
    {
     "data": {
      "text/plain": [
       "88208"
      ]
     },
     "execution_count": 13,
     "metadata": {},
     "output_type": "execute_result"
    }
   ],
   "source": [
    "mostactivemonkeys(monkeys, 2)"
   ]
  },
  {
   "cell_type": "markdown",
   "id": "64ba6c7a",
   "metadata": {},
   "source": [
    "# --- Part Two ---\n",
    "\n",
    "You're worried you might not ever get your items back. So worried, in fact, that your relief that a monkey's inspection didn't damage an item no longer causes your worry level to be divided by three.\n",
    "\n",
    "Unfortunately, that relief was all that was keeping your worry levels from reaching ridiculous levels. You'll need to find another way to keep your worry levels manageable.\n",
    "\n",
    "At this rate, you might be putting up with these monkeys for a very long time - possibly 10000 rounds!\n",
    "\n",
    "With these new rules, you can still figure out the monkey business after 10000 rounds. Using the same example above:\n",
    "\n",
    "Starting again from the initial state in your puzzle input, **what is the level of monkey business after 10000 rounds?**"
   ]
  },
  {
   "cell_type": "code",
   "execution_count": 20,
   "id": "0da493aa",
   "metadata": {},
   "outputs": [],
   "source": [
    "monkeys = monkeydic(input)"
   ]
  },
  {
   "cell_type": "code",
   "execution_count": 21,
   "id": "7ce8db31",
   "metadata": {},
   "outputs": [
    {
     "data": {
      "text/plain": [
       "{0: {'startingitems': [79, 98],\n",
       "  'operation': ['*', '19'],\n",
       "  'test': 23,\n",
       "  'throwto': [2, 3],\n",
       "  'inspecteditems': 0},\n",
       " 1: {'startingitems': [54, 65, 75, 74],\n",
       "  'operation': ['+', '6'],\n",
       "  'test': 19,\n",
       "  'throwto': [2, 0],\n",
       "  'inspecteditems': 0},\n",
       " 2: {'startingitems': [79, 60, 97],\n",
       "  'operation': ['*', 'old'],\n",
       "  'test': 13,\n",
       "  'throwto': [1, 3],\n",
       "  'inspecteditems': 0},\n",
       " 3: {'startingitems': [74],\n",
       "  'operation': ['+', '3'],\n",
       "  'test': 17,\n",
       "  'throwto': [0, 1],\n",
       "  'inspecteditems': 0}}"
      ]
     },
     "execution_count": 21,
     "metadata": {},
     "output_type": "execute_result"
    }
   ],
   "source": [
    "monkeys"
   ]
  },
  {
   "cell_type": "code",
   "execution_count": 39,
   "id": "e951900b",
   "metadata": {},
   "outputs": [
    {
     "name": "stdout",
     "output_type": "stream",
     "text": [
      "19\n"
     ]
    }
   ],
   "source": [
    "from math import prod\n",
    "\n",
    "x = [23, 19, 13, 17]\n",
    "\n",
    "moddd = prod(x)\n",
    "\n",
    "def mod(monkeys):\n",
    "    for monkeyno in monkeys:\n",
    "        monkey = monkeys[monkeyno]\n",
    "        startingitems = monkey['startingitems']\n",
    "        for startingitem in startingitems:\n",
    "            test = monkey['test']\n",
    "            startingitem\n",
    "            print(prod(i))\n",
    "\n",
    "#mod(monkeys)\n",
    "\n",
    "print(19%moddd)"
   ]
  },
  {
   "cell_type": "code",
   "execution_count": null,
   "id": "475767ae",
   "metadata": {},
   "outputs": [],
   "source": [
    "def inspectandthrow2(monkey, monkeyno):\n",
    "    startingitems = monkey['startingitems']\n",
    "    for item in startingitems:\n",
    "        \n",
    "        inspecteditems = monkey['inspecteditems']\n",
    "        inspecteditems += 1\n",
    "        monkey['inspecteditems'] = inspecteditems\n",
    "        \n",
    "        #print(f'Monkey {monkeyno} inspects item with level {item}')\n",
    "        item = int(item)\n",
    "        if monkey['operation'][1] == 'old':\n",
    "            value = int(item)\n",
    "        else:\n",
    "            value = int(monkey['operation'][1])\n",
    "        # operator + or *\n",
    "        if monkey['operation'][0] == '+':\n",
    "            worrylevel = item + value\n",
    "        elif monkey['operation'][0] == '*':\n",
    "            worrylevel = item * value\n",
    "        \n",
    "        # worrylevel / 3 and downround\n",
    "        worrylevel = int(worrylevel//3)\n",
    "        #print(f'Monkey gets bored with item. Worry level is divided by 3 to {worrylevel}')\n",
    "        test = int(monkey['test'])\n",
    "        if worrylevel%test == 0:\n",
    "            #print(f'Current worry level IS divisible by {test}')\n",
    "            truemonkey = int(monkey['throwto'][0])\n",
    "            #print(f'Item with worry level {worrylevel} is thrown to monkey {truemonkey}.')\n",
    "            monkeys[truemonkey]['startingitems'].append(worrylevel)\n",
    "        else:\n",
    "            #print(f'Current worry level is NOT divisible by {test}.')\n",
    "            falsemonkey = int(monkey['throwto'][1])\n",
    "            #print(f'Item with worry level {worrylevel} is thrown to monkey {falsemonkey}.')\n",
    "            monkeys[falsemonkey]['startingitems'].append(worrylevel)\n",
    "    monkey['startingitems'] = []\n",
    "    return monkey"
   ]
  },
  {
   "cell_type": "code",
   "execution_count": null,
   "id": "6178ae25",
   "metadata": {},
   "outputs": [],
   "source": [
    "def roundmonkeyworks(monkeys, rounds):\n",
    "    for i in range(1,rounds+1):\n",
    "        # for ever monkey\n",
    "        for monkeyno in monkeys:\n",
    "            monkey = monkeys[monkeyno]\n",
    "            monkey = inspectandthrow2(monkey, monkeyno)\n",
    "    return"
   ]
  },
  {
   "cell_type": "code",
   "execution_count": null,
   "id": "f2349031",
   "metadata": {},
   "outputs": [],
   "source": [
    "roundmonkeyworks(monkeys, 20)"
   ]
  },
  {
   "cell_type": "code",
   "execution_count": null,
   "id": "d316416b",
   "metadata": {},
   "outputs": [],
   "source": [
    "mostactivemonkeys(monkeys, 2)"
   ]
  }
 ],
 "metadata": {
  "kernelspec": {
   "display_name": "Python 3 (ipykernel)",
   "language": "python",
   "name": "python3"
  },
  "language_info": {
   "codemirror_mode": {
    "name": "ipython",
    "version": 3
   },
   "file_extension": ".py",
   "mimetype": "text/x-python",
   "name": "python",
   "nbconvert_exporter": "python",
   "pygments_lexer": "ipython3",
   "version": "3.9.13"
  }
 },
 "nbformat": 4,
 "nbformat_minor": 5
}
