{
 "cells": [
  {
   "cell_type": "markdown",
   "id": "993d95a2",
   "metadata": {},
   "source": [
    "# --- Day 1: Calorie Counting ---\n",
    "Santa's reindeer typically eat regular reindeer food, but they need a lot of **magical energy** to deliver presents on Christmas. For that, their favorite snack is a special type of **star** fruit that only grows deep in the jungle. The Elves have brought you on their annual expedition to the grove where the fruit grows.\n",
    "\n",
    "To supply enough magical energy, the expedition needs to retrieve a minimum of **fifty stars** by December 25th. Although the Elves assure you that the grove has plenty of fruit, you decide to grab any fruit you see along the way, just in case.\n",
    "\n",
    "Collect stars by solving puzzles. Two puzzles will be made available on each day in the Advent calendar; the second puzzle is unlocked when you complete the first. Each puzzle grants **one star**. Good luck!\n",
    "\n",
    "---\n",
    "\n",
    "The jungle must be too overgrown and difficult to navigate in vehicles or access from the air; the Elves' expedition traditionally goes on foot. As your boats approach land, the Elves begin taking inventory of their supplies. One important consideration is food - in particular, the number of **Calories** each Elf is carrying (your puzzle input).\n",
    "\n",
    "The Elves take turns writing down the number of Calories contained by the various meals, snacks, rations, etc. that they've brought with them, one item per line. Each Elf separates their own inventory from the previous Elf's inventory (if any) by a blank line.\n",
    "\n",
    "For example, suppose the Elves finish writing their items' Calories and end up with the following list:\n",
    "```\n",
    "1000\n",
    "2000\n",
    "3000\n",
    "\n",
    "4000\n",
    "\n",
    "5000\n",
    "6000\n",
    "\n",
    "7000\n",
    "8000\n",
    "9000\n",
    "\n",
    "10000\n",
    "```\n",
    "\n",
    "This list represents the Calories of the food carried by five Elves:\n",
    "\n",
    "- The first Elf is carrying food with `1000`, `2000`, and `3000` Calories, a total of `6000` Calories.\n",
    "- The second Elf is carrying one food item with `4000` Calories.\n",
    "- The third Elf is carrying food with `5000` and `6000` Calories, a total of `11000` Calories.\n",
    "- The fourth Elf is carrying food with `7000`, `8000`, and `9000` Calories, a total of `24000` Calories.\n",
    "- The fifth Elf is carrying one food item with `10000` Calories.\n",
    "\n",
    "In case the Elves get hungry and need extra snacks, they need to know which Elf to ask: they'd like to know how many Calories are being carried by the Elf carrying the **most** Calories. In the example above, this is `24000` (carried by the fourth Elf).\n",
    "\n",
    "Find the Elf carrying the most Calories. **How many total Calories is that Elf carrying?**"
   ]
  },
  {
   "cell_type": "code",
   "execution_count": 89,
   "id": "b3f8933c",
   "metadata": {},
   "outputs": [],
   "source": [
    "input = 'input.txt'"
   ]
  },
  {
   "cell_type": "code",
   "execution_count": 90,
   "id": "767fc474",
   "metadata": {},
   "outputs": [],
   "source": [
    "def readinput(file):\n",
    "    with open(file) as f:\n",
    "        lines = f.readlines()\n",
    "    return lines\n",
    "\n",
    "input = readinput(input)"
   ]
  },
  {
   "cell_type": "code",
   "execution_count": 91,
   "id": "313f8768",
   "metadata": {},
   "outputs": [],
   "source": [
    "def elfwithmostcalories(listofcal):\n",
    "    # Summed up Calries from Elf\n",
    "    caloriesum = 0\n",
    "    # List of all summed up Elf Calories\n",
    "    caloriesumlist = []\n",
    "    \n",
    "    for calorie in listofcal:\n",
    "        # Replacing 'new lines'\n",
    "        calorie.replace('\\n','')\n",
    "        \n",
    "        # if line is longer than empty (has calories in it)\n",
    "        if len(calorie)-1 > 0:\n",
    "            caloriesum += int(calorie)\n",
    "\n",
    "        # if line is empty (has no calories in it)\n",
    "        elif len(calorie)-1 == 0:\n",
    "            # write the summed up calories in list\n",
    "            caloriesumlist.append(caloriesum)\n",
    "            # set caloriesum to zero for the new Elf\n",
    "            caloriesum = 0\n",
    "            \n",
    "    caloriesumlist.sort()\n",
    "    return caloriesumlist[-1]\n",
    "    \n",
    "winnerelf = elfwithmostcalories(input)"
   ]
  },
  {
   "cell_type": "code",
   "execution_count": 92,
   "id": "a5b6141a",
   "metadata": {},
   "outputs": [
    {
     "data": {
      "text/plain": [
       "75622"
      ]
     },
     "execution_count": 92,
     "metadata": {},
     "output_type": "execute_result"
    }
   ],
   "source": [
    "maxcal"
   ]
  },
  {
   "cell_type": "markdown",
   "id": "0a59bfb6",
   "metadata": {},
   "source": [
    "# --- Part Two ---\n",
    "By the time you calculate the answer to the Elves' question, they've already realized that the Elf carrying the most Calories of food might eventually **run out of snacks**.\n",
    "\n",
    "To avoid this unacceptable situation, the Elves would instead like to know the total Calories carried by the **top three** Elves carrying the most Calories. That way, even if one of those Elves runs out of snacks, they still have two backups.\n",
    "\n",
    "In the example above, the top three Elves are the fourth Elf (with `24000` Calories), then the third Elf (with `11000` Calories), then the fifth Elf (with `10000` Calories). The sum of the Calories carried by these three elves is `45000`.\n",
    "\n",
    "Find the top three Elves carrying the most Calories. How many Calories are those Elves carrying in total?"
   ]
  },
  {
   "cell_type": "code",
   "execution_count": 113,
   "id": "89dc4adc",
   "metadata": {},
   "outputs": [],
   "source": [
    "def elfandcalories(listofcal):\n",
    "    # Summed up Calries from Elf\n",
    "    caloriesum = 0\n",
    "    # List of all summed up Elves + Calories\n",
    "    elfno = 0\n",
    "    elfwithcal = {}\n",
    "    \n",
    "    for calorie in listofcal:\n",
    "        # Replacing 'new lines'\n",
    "        calorie.replace('\\n','')\n",
    "        \n",
    "        # if line is longer than empty (has calories in it)\n",
    "        if len(calorie)-1 > 0:\n",
    "            caloriesum += int(calorie)\n",
    "\n",
    "        # if line is empty (has no calories in it)\n",
    "        elif len(calorie)-1 == 0:\n",
    "            # write the summed up calories in list\n",
    "            elfwithcal[elfno]=caloriesum\n",
    "            # set caloriesum to zero for the new Elf\n",
    "            caloriesum = 0\n",
    "            # +1 for new elf\n",
    "            elfno += 1\n",
    "    \n",
    "    elfwithcal = sorted(elfwithcal.items(), key=lambda x:x[1])\n",
    "\n",
    "    return elfwithcal\n",
    "    \n",
    "allelves = elfandcalories(input)"
   ]
  },
  {
   "cell_type": "code",
   "execution_count": 114,
   "id": "fc48c214",
   "metadata": {},
   "outputs": [],
   "source": [
    "top3elves = allelves[-3:]\n",
    "top3elvescalories = 0\n",
    "for calories in top3elves:\n",
    "    top3elvescalories += calories[1]"
   ]
  },
  {
   "cell_type": "code",
   "execution_count": 115,
   "id": "d612111a",
   "metadata": {},
   "outputs": [
    {
     "data": {
      "text/plain": [
       "213159"
      ]
     },
     "execution_count": 115,
     "metadata": {},
     "output_type": "execute_result"
    }
   ],
   "source": [
    "top3elvescalories"
   ]
  },
  {
   "cell_type": "code",
   "execution_count": null,
   "id": "ef33dddd",
   "metadata": {},
   "outputs": [],
   "source": []
  }
 ],
 "metadata": {
  "kernelspec": {
   "display_name": "Python 3 (ipykernel)",
   "language": "python",
   "name": "python3"
  },
  "language_info": {
   "codemirror_mode": {
    "name": "ipython",
    "version": 3
   },
   "file_extension": ".py",
   "mimetype": "text/x-python",
   "name": "python",
   "nbconvert_exporter": "python",
   "pygments_lexer": "ipython3",
   "version": "3.9.13"
  }
 },
 "nbformat": 4,
 "nbformat_minor": 5
}
