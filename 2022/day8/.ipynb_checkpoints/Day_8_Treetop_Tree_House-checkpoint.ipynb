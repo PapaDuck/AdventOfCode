{
 "cells": [
  {
   "cell_type": "markdown",
   "id": "8098f6f2",
   "metadata": {},
   "source": [
    "# --- Day 8: Treetop Tree House ---\n",
    "\n",
    "\n",
    "Consider your map; **how many trees are visible from outside the grid?**"
   ]
  },
  {
   "cell_type": "code",
   "execution_count": 1,
   "id": "494516d8",
   "metadata": {},
   "outputs": [],
   "source": [
    "#imports\n",
    "import pandas as pd"
   ]
  },
  {
   "cell_type": "code",
   "execution_count": 2,
   "id": "329f6caa",
   "metadata": {},
   "outputs": [],
   "source": [
    "input = 'input.txt'\n",
    "input = 'testinput.txt'"
   ]
  },
  {
   "cell_type": "code",
   "execution_count": 3,
   "id": "c1cc8b23",
   "metadata": {},
   "outputs": [],
   "source": [
    "def readinput(file):\n",
    "    with open(file) as f:\n",
    "        #lines = f.readlines()\n",
    "        lines = f.read().splitlines() \n",
    "    return lines\n",
    "\n",
    "input = readinput(input)"
   ]
  },
  {
   "cell_type": "code",
   "execution_count": 4,
   "id": "be128576",
   "metadata": {},
   "outputs": [
    {
     "data": {
      "text/plain": [
       "['30373', '25512', '65332', '33549', '35390']"
      ]
     },
     "execution_count": 4,
     "metadata": {},
     "output_type": "execute_result"
    }
   ],
   "source": [
    "input"
   ]
  },
  {
   "cell_type": "code",
   "execution_count": null,
   "id": "71c23240",
   "metadata": {},
   "outputs": [],
   "source": [
    "def createtreeframe(treelist):\n",
    "    df = pd.DataFrame()\n",
    "    print(df)\n",
    "    treedf = []\n",
    "    for trees in treelist:\n",
    "        print(trees)\n",
    "        treedict = {}\n",
    "        baumno = 1\n",
    "        for tree in trees:\n",
    "            treedict['tree'+str(baumno)]=[tree, None]\n",
    "            baumno += 1\n",
    "        treedf.append(treedict)\n",
    "        df = pd.DataFrame(treedf)\n",
    "    return df\n",
    "\n",
    "treedf = createtreeframe(input)"
   ]
  },
  {
   "cell_type": "code",
   "execution_count": null,
   "id": "6fe6b90a",
   "metadata": {
    "scrolled": false
   },
   "outputs": [],
   "source": [
    "treedf"
   ]
  },
  {
   "cell_type": "code",
   "execution_count": null,
   "id": "4a84ab5f",
   "metadata": {},
   "outputs": [],
   "source": [
    "def seachtree(treedf, rowmax, columnmax):\n",
    "    rowno = 0\n",
    "    treelist = []\n",
    "    visabilitydf = []\n",
    "    alldone = False\n",
    "    \n",
    "    for treename in treedf:\n",
    "        treelist.append(treename)\n",
    "    # each tree in row\n",
    "    for treerow in range(len(treedf)):\n",
    "        # each tree in column\n",
    "        visabilitydict = {}\n",
    "        for treecolumn in treedf:\n",
    "            # tree is default visible\n",
    "            tree = treedf[treecolumn][treerow][0]\n",
    "            tree = int(tree)\n",
    "            treevisible = treedf[treecolumn][treerow][1]\n",
    "            \n",
    "            # if in first or last row visible\n",
    "            if rowno == 0 or rowno == rowmax-1:\n",
    "                treevisible = True\n",
    "            # if in first or last column visible \n",
    "            elif treecolumn == treelist[0] or treecolumn == treelist[-1]:\n",
    "                treevisible = True\n",
    "            \n",
    "            # links von mir\n",
    "            if treevisible == None:\n",
    "                lt = treedf[treelist[treelist.index(treecolumn)-1]][treerow][0]\n",
    "                ltvisability = treedf[treelist[treelist.index(treecolumn)-1]][treerow][1]\n",
    "                lt = int(lt)\n",
    "                if lt < tree and ltvisability != None:\n",
    "                    treevisible = True\n",
    "            # rechts von mir\n",
    "            if treevisible == None:\n",
    "                rt = treedf[treelist[treelist.index(treecolumn)+1]][treerow][0]\n",
    "                rtvisability = treedf[treelist[treelist.index(treecolumn)+1]][treerow][1]\n",
    "                rt = int(rt)\n",
    "                if rt < tree and rtvisability != None:\n",
    "                    treevisible = True\n",
    "            # über mir \n",
    "            if treevisible == None:\n",
    "                tt = treedf[treecolumn][treerow-1][0]\n",
    "                ttvisability = treedf[treecolumn][treerow-1][1]\n",
    "                tt = int(tt)\n",
    "                if tt < tree and ttvisability != None:\n",
    "                    treevisible = True\n",
    "            # unter mir\n",
    "            if treevisible == None:\n",
    "                print('sichtbar')\n",
    "                bt = treedf[treecolumn][treerow+1][0]\n",
    "                btvisability = treedf[treecolumn][treerow+1][1]\n",
    "                bt = int(bt)\n",
    "                if bt < tree and btvisability != None:\n",
    "                    treevisible = True\n",
    "            \n",
    "            treedf[treecolumn][treerow] = [tree, treevisible]\n",
    "            print(f'R:{treerow} C:{treecolumn} - {tree} {treevisible}')\n",
    "            #visabilitydict[treecolumn]=treevisible\n",
    "        #visabilitydf.append(visabilitydict)\n",
    "        rowno += 1\n",
    "\n",
    "    #visabilitydf = pd.DataFrame(visabilitydf)\n",
    "\n",
    "    return treedf\n",
    "        \n",
    "treedf = seachtree(treedf, 5, 5)\n",
    "treedf"
   ]
  },
  {
   "cell_type": "code",
   "execution_count": null,
   "id": "87e9a02a",
   "metadata": {},
   "outputs": [],
   "source": [
    "treedf = seachtree(treedf, 5, 5)"
   ]
  },
  {
   "cell_type": "code",
   "execution_count": null,
   "id": "ec97c077",
   "metadata": {},
   "outputs": [],
   "source": [
    "treedf"
   ]
  },
  {
   "cell_type": "code",
   "execution_count": null,
   "id": "427e6a22",
   "metadata": {},
   "outputs": [],
   "source": [
    "# test if all true and false\n",
    "anynone = []\n",
    "anynone.append(True)\n",
    "\n",
    "treenumbers = range(0, 9)\n",
    "\n",
    "while any(anynone):\n",
    "    treedf = seachtree(treedf, 5, 5)\n",
    "    anynone = []\n",
    "    for i in treenumbers:\n",
    "        treevalue = [i, None]\n",
    "        stillnone = treedf.isin([treevalue]).any().any()\n",
    "        anynone.append(stillnone)\n",
    "    print(anynone)"
   ]
  },
  {
   "cell_type": "code",
   "execution_count": null,
   "id": "8854d906",
   "metadata": {},
   "outputs": [],
   "source": [
    "treedf"
   ]
  },
  {
   "cell_type": "markdown",
   "id": "098f7acc",
   "metadata": {},
   "source": [
    "# --- Part Two ---\n",
    "\n",
    "Your device's communication system is correctly detecting packets, but still isn't working. It looks like it also needs to look for **messages**.\n",
    "\n",
    "A **start-of-message** marker is just like a start-of-packet marker, except it consists of **14 distinct characters** rather than 4.\n",
    "\n",
    "Here are the first positions of start-of-message markers for all of the above examples:\n",
    "\n",
    "- `mjqjpqmgbljsphdztnvjfqwrcgsmlb`: first marker after character `19`\n",
    "- `bvwbjplbgvbhsrlpgdmjqwftvncz`: first marker after character `23`\n",
    "- `nppdvjthqldpwncqszvftbrmjlhg`: first marker after character `23`\n",
    "- `nznrnfrfntjfmvfwmzdfjlvtqnbhcprsg`: first marker after character `29`\n",
    "- `zcfzfwzzqfrljwzlrfnpqdbhtmscgvjw`: first marker after character `26`\n",
    "\n",
    "**How many characters need to be processed before the first start-of-message marker is detected?**"
   ]
  },
  {
   "cell_type": "code",
   "execution_count": null,
   "id": "8b16d82a",
   "metadata": {},
   "outputs": [],
   "source": [
    "x = findsignal(input, 14)"
   ]
  },
  {
   "cell_type": "code",
   "execution_count": null,
   "id": "8757fe07",
   "metadata": {},
   "outputs": [],
   "source": [
    "x"
   ]
  },
  {
   "cell_type": "code",
   "execution_count": null,
   "id": "081308e7",
   "metadata": {},
   "outputs": [],
   "source": []
  }
 ],
 "metadata": {
  "kernelspec": {
   "display_name": "Python 3 (ipykernel)",
   "language": "python",
   "name": "python3"
  },
  "language_info": {
   "codemirror_mode": {
    "name": "ipython",
    "version": 3
   },
   "file_extension": ".py",
   "mimetype": "text/x-python",
   "name": "python",
   "nbconvert_exporter": "python",
   "pygments_lexer": "ipython3",
   "version": "3.9.13"
  }
 },
 "nbformat": 4,
 "nbformat_minor": 5
}
