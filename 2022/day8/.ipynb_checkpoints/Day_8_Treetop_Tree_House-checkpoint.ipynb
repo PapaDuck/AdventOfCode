{
 "cells": [
  {
   "cell_type": "markdown",
   "id": "8098f6f2",
   "metadata": {},
   "source": [
    "# --- Day 8: Treetop Tree House ---\n",
    "\n",
    "The expedition comes across a peculiar patch of tall trees all planted carefully in a grid. The Elves explain that a previous expedition planted these trees as a reforestation effort. Now, they're curious if this would be a good location for a tree house.\n",
    "\n",
    "First, determine whether there is enough tree cover here to keep a tree house **hidden**. To do this, you need to count the number of trees that are **visible from outside the grid** when looking directly along a row or column.\n",
    "\n",
    "The Elves have already launched a quadcopter to generate a map with the height of each tree (your puzzle input). For example:\n",
    "```\n",
    "30373\n",
    "25512\n",
    "65332\n",
    "33549\n",
    "35390\n",
    "```\n",
    "Each tree is represented as a single digit whose value is its height, where `0` is the shortest and `9` is the tallest.\n",
    "\n",
    "A tree is **visible** if all of the other trees between it and an edge of the grid are **shorter** than it. Only consider trees in the same row or column; that is, only look up, down, left, or right from any given tree.\n",
    "\n",
    "All of the trees around the edge of the grid are **visible** - since they are already on the edge, there are no trees to block the view. In this example, that only leaves the **interior nine trees** to consider:\n",
    "\n",
    "- The top-left `5` is **visible** from the left and top. (It isn't visible from the right or bottom since other trees of height `5` are in the way.)\n",
    "- The top-middle `5` is **visible** from the top and right.\n",
    "- The top-right `1` is not visible from any direction; for it to be visible, there would need to only be trees of height **0** between it and an edge.\n",
    "- The left-middle `5` is **visible**, but only from the right.\n",
    "-  The center `3` is not visible from any direction; for it to be visible, there would need to be only trees of at most height `2` between it and an edge.\n",
    "- The right-middle `3` is **visible** from the right.\n",
    "- In the bottom row, the middle `5` is **visible**, but the `3` and `4` are not.\n",
    "\n",
    "With 16 trees visible on the edge and another 5 visible in the interior, a total of `21` trees are visible in this arrangement.\n",
    "\n",
    "Consider your map; how many trees are visible from outside the grid?\n",
    "\n",
    "Consider your map; **how many trees are visible from outside the grid?**"
   ]
  },
  {
   "cell_type": "code",
   "execution_count": 1,
   "id": "494516d8",
   "metadata": {},
   "outputs": [],
   "source": [
    "#imports\n",
    "import pandas as pd"
   ]
  },
  {
   "cell_type": "code",
   "execution_count": 2,
   "id": "329f6caa",
   "metadata": {},
   "outputs": [],
   "source": [
    "input = 'input.txt'\n",
    "input = 'testinput.txt'"
   ]
  },
  {
   "cell_type": "code",
   "execution_count": 3,
   "id": "c1cc8b23",
   "metadata": {},
   "outputs": [],
   "source": [
    "def readinput(file):\n",
    "    with open(file) as f:\n",
    "        #lines = f.readlines()\n",
    "        lines = f.read().splitlines() \n",
    "    return lines\n",
    "\n",
    "input = readinput(input)"
   ]
  },
  {
   "cell_type": "code",
   "execution_count": 4,
   "id": "be128576",
   "metadata": {},
   "outputs": [
    {
     "data": {
      "text/plain": [
       "['30373', '25512', '65332', '33549', '35390']"
      ]
     },
     "execution_count": 4,
     "metadata": {},
     "output_type": "execute_result"
    }
   ],
   "source": [
    "input"
   ]
  },
  {
   "cell_type": "code",
   "execution_count": null,
   "id": "71c23240",
   "metadata": {},
   "outputs": [],
   "source": [
    "def createtreeframe(treelist):\n",
    "    df = pd.DataFrame()\n",
    "    print(df)\n",
    "    treedf = []\n",
    "    for trees in treelist:\n",
    "        print(trees)\n",
    "        treedict = {}\n",
    "        baumno = 1\n",
    "        for tree in trees:\n",
    "            treedict['tree'+str(baumno)]=[tree, None]\n",
    "            baumno += 1\n",
    "        treedf.append(treedict)\n",
    "        df = pd.DataFrame(treedf)\n",
    "    return df\n",
    "\n",
    "treedf = createtreeframe(input)"
   ]
  },
  {
   "cell_type": "code",
   "execution_count": null,
   "id": "6fe6b90a",
   "metadata": {
    "scrolled": false
   },
   "outputs": [],
   "source": [
    "treedf"
   ]
  },
  {
   "cell_type": "code",
   "execution_count": null,
   "id": "4a84ab5f",
   "metadata": {},
   "outputs": [],
   "source": [
    "def seachtree(treedf, rowmax, columnmax):\n",
    "    rowno = 0\n",
    "    treelist = []\n",
    "    visabilitydf = []\n",
    "    alldone = False\n",
    "    \n",
    "    for treename in treedf:\n",
    "        treelist.append(treename)\n",
    "    # each tree in row\n",
    "    for treerow in range(len(treedf)):\n",
    "        # each tree in column\n",
    "        visabilitydict = {}\n",
    "        for treecolumn in treedf:\n",
    "            # tree is default visible\n",
    "            tree = treedf[treecolumn][treerow][0]\n",
    "            tree = int(tree)\n",
    "            treevisible = treedf[treecolumn][treerow][1]\n",
    "            \n",
    "            # if in first or last row visible\n",
    "            if rowno == 0 or rowno == rowmax-1:\n",
    "                treevisible = True\n",
    "            # if in first or last column visible \n",
    "            elif treecolumn == treelist[0] or treecolumn == treelist[-1]:\n",
    "                treevisible = True\n",
    "            \n",
    "            # links von mir\n",
    "            if treevisible == None:\n",
    "                lt = treedf[treelist[treelist.index(treecolumn)-1]][treerow][0]\n",
    "                ltvisability = treedf[treelist[treelist.index(treecolumn)-1]][treerow][1]\n",
    "                lt = int(lt)\n",
    "                if lt < tree and ltvisability != None:\n",
    "                    treevisible = True\n",
    "            # rechts von mir\n",
    "            if treevisible == None:\n",
    "                rt = treedf[treelist[treelist.index(treecolumn)+1]][treerow][0]\n",
    "                rtvisability = treedf[treelist[treelist.index(treecolumn)+1]][treerow][1]\n",
    "                rt = int(rt)\n",
    "                if rt < tree and rtvisability != None:\n",
    "                    treevisible = True\n",
    "            # über mir \n",
    "            if treevisible == None:\n",
    "                tt = treedf[treecolumn][treerow-1][0]\n",
    "                ttvisability = treedf[treecolumn][treerow-1][1]\n",
    "                tt = int(tt)\n",
    "                if tt < tree and ttvisability != None:\n",
    "                    treevisible = True\n",
    "            # unter mir\n",
    "            if treevisible == None:\n",
    "                print('sichtbar')\n",
    "                bt = treedf[treecolumn][treerow+1][0]\n",
    "                btvisability = treedf[treecolumn][treerow+1][1]\n",
    "                bt = int(bt)\n",
    "                if bt < tree and btvisability != None:\n",
    "                    treevisible = True\n",
    "            \n",
    "            treedf[treecolumn][treerow] = [tree, treevisible]\n",
    "            print(f'R:{treerow} C:{treecolumn} - {tree} {treevisible}')\n",
    "            #visabilitydict[treecolumn]=treevisible\n",
    "        #visabilitydf.append(visabilitydict)\n",
    "        rowno += 1\n",
    "\n",
    "    #visabilitydf = pd.DataFrame(visabilitydf)\n",
    "\n",
    "    return treedf\n",
    "        \n",
    "treedf = seachtree(treedf, 5, 5)\n",
    "treedf"
   ]
  },
  {
   "cell_type": "code",
   "execution_count": null,
   "id": "87e9a02a",
   "metadata": {},
   "outputs": [],
   "source": [
    "treedf = seachtree(treedf, 5, 5)"
   ]
  },
  {
   "cell_type": "code",
   "execution_count": null,
   "id": "ec97c077",
   "metadata": {},
   "outputs": [],
   "source": [
    "treedf"
   ]
  },
  {
   "cell_type": "code",
   "execution_count": null,
   "id": "427e6a22",
   "metadata": {},
   "outputs": [],
   "source": [
    "# test if all true and false\n",
    "anynone = []\n",
    "anynone.append(True)\n",
    "\n",
    "treenumbers = range(0, 9)\n",
    "\n",
    "while any(anynone):\n",
    "    treedf = seachtree(treedf, 5, 5)\n",
    "    anynone = []\n",
    "    for i in treenumbers:\n",
    "        treevalue = [i, None]\n",
    "        stillnone = treedf.isin([treevalue]).any().any()\n",
    "        anynone.append(stillnone)\n",
    "    print(anynone)"
   ]
  },
  {
   "cell_type": "code",
   "execution_count": null,
   "id": "8854d906",
   "metadata": {},
   "outputs": [],
   "source": [
    "treedf"
   ]
  },
  {
   "cell_type": "markdown",
   "id": "098f7acc",
   "metadata": {},
   "source": [
    "# --- Part Two ---\n",
    "\n",
    "\n",
    "**???**"
   ]
  },
  {
   "cell_type": "code",
   "execution_count": null,
   "id": "8b16d82a",
   "metadata": {},
   "outputs": [],
   "source": []
  }
 ],
 "metadata": {
  "kernelspec": {
   "display_name": "Python 3 (ipykernel)",
   "language": "python",
   "name": "python3"
  },
  "language_info": {
   "codemirror_mode": {
    "name": "ipython",
    "version": 3
   },
   "file_extension": ".py",
   "mimetype": "text/x-python",
   "name": "python",
   "nbconvert_exporter": "python",
   "pygments_lexer": "ipython3",
   "version": "3.9.13"
  }
 },
 "nbformat": 4,
 "nbformat_minor": 5
}
