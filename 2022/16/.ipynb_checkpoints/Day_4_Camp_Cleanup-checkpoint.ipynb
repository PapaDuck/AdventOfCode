{
 "cells": [
  {
   "cell_type": "markdown",
   "id": "993d95a2",
   "metadata": {},
   "source": [
    "# --- Day 4: Camp Cleanup ---\n",
    "\n",
    "\n",
    "Space needs to be cleared before the last supplies can be unloaded from the ships, and so several Elves have been assigned the job of cleaning up sections of the camp. Every section has a unique **ID number**, and each Elf is assigned a range of section IDs.\n",
    "\n",
    "However, as some of the Elves compare their section assignments with each other, they've noticed that many of the assignments overlap. To try to quickly find **overlaps** and reduce duplicated effort, the Elves pair up and make a **big list of the section assignments for each pair** (your puzzle input).\n",
    "\n",
    "For example, consider the following list of section assignment pairs:\n",
    "```\n",
    "2-4,6-8\n",
    "2-3,4-5\n",
    "5-7,7-9\n",
    "2-8,3-7\n",
    "6-6,4-6\n",
    "2-6,4-8\n",
    "```\n",
    "For the first few pairs, this list means:\n",
    "\n",
    "- Within the first pair of Elves, the first Elf was assigned sections `2-4` (sections `2`, `3`, and `4`), while the second Elf was assigned sections `6-8` (sections `6`, `7`, `8`).\n",
    "- The Elves in the second pair were each assigned two sections.\n",
    "- The Elves in the third pair were each assigned three sections: one got sections `5`, `6`, and `7`, while the other also got `7`, plus `8` and `9`.\n",
    "\n",
    "This example list uses single-digit section IDs to make it easier to draw; your actual list might contain larger numbers. Visually, these pairs of section assignments look like this:\n",
    "```\n",
    ".234.....  2-4\n",
    ".....678.  6-8\n",
    "\n",
    ".23......  2-3\n",
    "...45....  4-5\n",
    "\n",
    "....567..  5-7\n",
    "......789  7-9\n",
    "\n",
    ".2345678.  2-8\n",
    "..34567..  3-7\n",
    "\n",
    ".....6...  6-6\n",
    "...456...  4-6\n",
    "\n",
    ".23456...  2-6\n",
    "...45678.  4-8\n",
    "```\n",
    "Some of the pairs have noticed that one of their assignments **fully contains** the other. For example, `2-8` fully contains `3-7`, and `6-6` is fully contained by `4-6`. In pairs where one assignment fully contains the other, one Elf in the pair would be exclusively cleaning sections their partner will already be cleaning, so these seem like the most in need of reconsideration. In this example, there are `2` such pairs.\n",
    "\n",
    "**In how many assignment pairs does one range fully contain the other?**"
   ]
  },
  {
   "cell_type": "code",
   "execution_count": 90,
   "id": "b3f8933c",
   "metadata": {},
   "outputs": [],
   "source": [
    "input = 'input.txt'"
   ]
  },
  {
   "cell_type": "code",
   "execution_count": 91,
   "id": "767fc474",
   "metadata": {},
   "outputs": [],
   "source": [
    "def readinput(file):\n",
    "    with open(file) as f:\n",
    "        #lines = f.readlines()\n",
    "        lines = f.read().splitlines() \n",
    "    return lines\n",
    "\n",
    "input = readinput(input)"
   ]
  },
  {
   "cell_type": "code",
   "execution_count": 94,
   "id": "313f8768",
   "metadata": {},
   "outputs": [],
   "source": [
    "def fullycontainesections(biglist):\n",
    "    elf1 = []\n",
    "    elf2 = []\n",
    "    \n",
    "    fullycontainedpairs = 0\n",
    "    \n",
    "    # compare each elves-pair \n",
    "    for section in biglist:\n",
    "        # elf one and elf two ar splited by an ,\n",
    "        elf1, elf2 = section.split(',')\n",
    "        \n",
    "        # list each sectionID from elf 1\n",
    "        startsection, endsection = elf1.split('-')\n",
    "        startsection = int(startsection)\n",
    "        endsection = int(endsection)+1\n",
    "        elf1 = []\n",
    "        # write every single sectionID in the elf-list\n",
    "        for singlesection in range(startsection, endsection):\n",
    "            elf1.append(singlesection)\n",
    "        \n",
    "        # list each sectionID from elf 2\n",
    "        startsection, endsection = elf2.split('-')\n",
    "        startsection = int(startsection)\n",
    "        endsection = int(endsection)+1\n",
    "        elf2 = []\n",
    "        # write every single sectionID in the elf-list\n",
    "        for singlesection in range(startsection, endsection):\n",
    "            elf2.append(singlesection)\n",
    "        \n",
    "        # testing if elf1 list is fully contain the elf2 list and the other way around\n",
    "        result = all(sections in elf1 for sections in elf2) or all(sections in elf2 for sections in elf1)\n",
    "        \n",
    "        if result:\n",
    "            fullycontainedpairs += 1\n",
    "            \n",
    "    return fullycontainedpairs"
   ]
  },
  {
   "cell_type": "code",
   "execution_count": 96,
   "id": "a5b6141a",
   "metadata": {
    "scrolled": false
   },
   "outputs": [
    {
     "data": {
      "text/plain": [
       "605"
      ]
     },
     "execution_count": 96,
     "metadata": {},
     "output_type": "execute_result"
    }
   ],
   "source": [
    "fullycontainesections(input)"
   ]
  },
  {
   "cell_type": "markdown",
   "id": "0a59bfb6",
   "metadata": {},
   "source": [
    "# --- Part Two ---\n",
    "\n",
    "It seems like there is still quite a bit of duplicate work planned. Instead, the Elves would like to know the number of pairs that **overlap at all**.\n",
    "\n",
    "In the above example, the first two pairs (`2-4,6-8` and `2-3,4-5`) don't overlap, while the remaining four pairs (`5-7,7-9`, `2-8,3-7`, `6-6,4-6`, and `2-6,4-8`) do overlap:\n",
    "\n",
    "- `5-7,7-9` overlaps in a single section, `7`.\n",
    "- `2-8,3-7` overlaps all of the sections `3` through `7`.\n",
    "- `6-6,4-6` overlaps in a single section, `6`.\n",
    "- `2-6,4-8` overlaps in sections `4`, `5`, and `6`.\n",
    "\n",
    "So, in this example, the number of overlapping assignment pairs is `4`.\n",
    "\n",
    "**In how many assignment pairs do the ranges overlap?**"
   ]
  },
  {
   "cell_type": "code",
   "execution_count": 105,
   "id": "ef33dddd",
   "metadata": {},
   "outputs": [],
   "source": [
    "def countsection(biglist):\n",
    "    elf1 = []\n",
    "    elf2 = []\n",
    "    \n",
    "    partcontainedpairs = 0\n",
    "    \n",
    "    # compare each elves-pair \n",
    "    for section in biglist:\n",
    "        # elf one and elf two ar splited by an ,\n",
    "        elf1, elf2 = section.split(',')\n",
    "        \n",
    "        # list each sectionID from elf 1\n",
    "        startsection, endsection = elf1.split('-')\n",
    "        startsection = int(startsection)\n",
    "        endsection = int(endsection)+1\n",
    "        elf1 = []\n",
    "        # write every single sectionID in the elf-list\n",
    "        for singlesection in range(startsection, endsection):\n",
    "            elf1.append(singlesection)\n",
    "        \n",
    "        # list each sectionID from elf 2\n",
    "        startsection, endsection = elf2.split('-')\n",
    "        startsection = int(startsection)\n",
    "        endsection = int(endsection)+1\n",
    "        elf2 = []\n",
    "        # write every single sectionID in the elf-list\n",
    "        for singlesection in range(startsection, endsection):\n",
    "            elf2.append(singlesection)\n",
    "        \n",
    "        # test if one sectionIDs is overlaping the other list\n",
    "        partinit = False\n",
    "        for e1section in elf1:\n",
    "            if e1section in elf2:\n",
    "                partinit = True\n",
    "                \n",
    "        if partinit:\n",
    "            partcontainedpairs += 1\n",
    "            \n",
    "    return partcontainedpairs"
   ]
  },
  {
   "cell_type": "code",
   "execution_count": 106,
   "id": "94999582",
   "metadata": {},
   "outputs": [
    {
     "data": {
      "text/plain": [
       "914"
      ]
     },
     "execution_count": 106,
     "metadata": {},
     "output_type": "execute_result"
    }
   ],
   "source": [
    "countsection(input)"
   ]
  },
  {
   "cell_type": "code",
   "execution_count": null,
   "id": "1579b200",
   "metadata": {},
   "outputs": [],
   "source": []
  }
 ],
 "metadata": {
  "kernelspec": {
   "display_name": "Python 3 (ipykernel)",
   "language": "python",
   "name": "python3"
  },
  "language_info": {
   "codemirror_mode": {
    "name": "ipython",
    "version": 3
   },
   "file_extension": ".py",
   "mimetype": "text/x-python",
   "name": "python",
   "nbconvert_exporter": "python",
   "pygments_lexer": "ipython3",
   "version": "3.9.13"
  }
 },
 "nbformat": 4,
 "nbformat_minor": 5
}
