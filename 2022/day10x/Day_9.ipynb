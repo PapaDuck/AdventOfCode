{
 "cells": [
  {
   "cell_type": "markdown",
   "id": "d949df2b",
   "metadata": {},
   "source": [
    "# --- Day 10: Cathode-Ray Tube ---\n",
    "\n",
    "\n",
    "\n",
    "**What is the sum of these six signal strengths?**"
   ]
  },
  {
   "cell_type": "code",
   "execution_count": 10,
   "id": "a657864b",
   "metadata": {},
   "outputs": [],
   "source": [
    "#imports\n",
    "import pandas as pd"
   ]
  },
  {
   "cell_type": "code",
   "execution_count": 224,
   "id": "6d5e94c3",
   "metadata": {},
   "outputs": [],
   "source": [
    "input = 'input.txt'\n",
    "#input = 'testinput.txt'"
   ]
  },
  {
   "cell_type": "code",
   "execution_count": 185,
   "id": "40dbcc5a",
   "metadata": {},
   "outputs": [],
   "source": [
    "def readinput(file):\n",
    "    with open(file) as f:\n",
    "        #lines = f.readlines()\n",
    "        lines = f.read().splitlines() \n",
    "    return lines\n",
    "\n",
    "input = readinput(input)"
   ]
  },
  {
   "cell_type": "code",
   "execution_count": 186,
   "id": "cb95d20b",
   "metadata": {},
   "outputs": [
    {
     "data": {
      "text/plain": [
       "['noop',\n",
       " 'addx 5',\n",
       " 'noop',\n",
       " 'noop',\n",
       " 'noop',\n",
       " 'addx 1',\n",
       " 'addx 2',\n",
       " 'addx 5',\n",
       " 'addx 2',\n",
       " 'addx 5',\n",
       " 'noop',\n",
       " 'noop',\n",
       " 'noop',\n",
       " 'noop',\n",
       " 'noop',\n",
       " 'addx -12',\n",
       " 'addx 18',\n",
       " 'addx -1',\n",
       " 'noop',\n",
       " 'addx 3',\n",
       " 'addx 5',\n",
       " 'addx -5',\n",
       " 'addx 7',\n",
       " 'noop',\n",
       " 'addx -36',\n",
       " 'addx 18',\n",
       " 'addx -16',\n",
       " 'noop',\n",
       " 'noop',\n",
       " 'noop',\n",
       " 'addx 5',\n",
       " 'addx 2',\n",
       " 'addx 5',\n",
       " 'addx 2',\n",
       " 'addx 13',\n",
       " 'addx -6',\n",
       " 'addx -4',\n",
       " 'addx 5',\n",
       " 'addx 2',\n",
       " 'addx 4',\n",
       " 'addx -3',\n",
       " 'addx 2',\n",
       " 'noop',\n",
       " 'addx 3',\n",
       " 'addx 2',\n",
       " 'addx 5',\n",
       " 'addx -40',\n",
       " 'addx 25',\n",
       " 'addx -22',\n",
       " 'addx 25',\n",
       " 'addx -21',\n",
       " 'addx 5',\n",
       " 'addx 3',\n",
       " 'noop',\n",
       " 'addx 2',\n",
       " 'addx 19',\n",
       " 'addx -10',\n",
       " 'addx -4',\n",
       " 'noop',\n",
       " 'addx -4',\n",
       " 'addx 7',\n",
       " 'noop',\n",
       " 'addx 3',\n",
       " 'addx 2',\n",
       " 'addx 5',\n",
       " 'addx 2',\n",
       " 'addx -26',\n",
       " 'addx 27',\n",
       " 'addx -36',\n",
       " 'noop',\n",
       " 'noop',\n",
       " 'noop',\n",
       " 'noop',\n",
       " 'addx 4',\n",
       " 'addx 6',\n",
       " 'noop',\n",
       " 'addx 12',\n",
       " 'addx -11',\n",
       " 'addx 2',\n",
       " 'noop',\n",
       " 'noop',\n",
       " 'noop',\n",
       " 'addx 5',\n",
       " 'addx 5',\n",
       " 'addx 2',\n",
       " 'noop',\n",
       " 'noop',\n",
       " 'addx 1',\n",
       " 'addx 2',\n",
       " 'addx 5',\n",
       " 'addx 2',\n",
       " 'addx 1',\n",
       " 'noop',\n",
       " 'noop',\n",
       " 'addx -38',\n",
       " 'noop',\n",
       " 'addx 9',\n",
       " 'addx -4',\n",
       " 'noop',\n",
       " 'noop',\n",
       " 'addx 7',\n",
       " 'addx 10',\n",
       " 'addx -9',\n",
       " 'addx 2',\n",
       " 'noop',\n",
       " 'addx -9',\n",
       " 'addx 14',\n",
       " 'addx 5',\n",
       " 'addx 2',\n",
       " 'addx -24',\n",
       " 'addx 25',\n",
       " 'addx 2',\n",
       " 'addx 5',\n",
       " 'addx 2',\n",
       " 'addx -30',\n",
       " 'addx 31',\n",
       " 'addx -38',\n",
       " 'addx 7',\n",
       " 'noop',\n",
       " 'noop',\n",
       " 'noop',\n",
       " 'addx 1',\n",
       " 'addx 21',\n",
       " 'addx -16',\n",
       " 'addx 8',\n",
       " 'addx -4',\n",
       " 'addx 2',\n",
       " 'addx 3',\n",
       " 'noop',\n",
       " 'noop',\n",
       " 'addx 5',\n",
       " 'addx -2',\n",
       " 'addx 5',\n",
       " 'addx 3',\n",
       " 'addx -1',\n",
       " 'addx -1',\n",
       " 'addx 4',\n",
       " 'addx 5',\n",
       " 'addx -38',\n",
       " 'noop']"
      ]
     },
     "execution_count": 186,
     "metadata": {},
     "output_type": "execute_result"
    }
   ],
   "source": [
    "#input = input[0]\n",
    "input"
   ]
  },
  {
   "cell_type": "code",
   "execution_count": 221,
   "id": "a4cb2062",
   "metadata": {},
   "outputs": [],
   "source": [
    "def testcycle(cycle, x, strength, sumstrength):\n",
    "    if cycle == 20 or (cycle) in range(20, 221, 40):\n",
    "        strength = cycle*x\n",
    "        print(f'{cycle} {x} ---------------------> {strength} <---')\n",
    "        sumstrength += strength\n",
    "    else:\n",
    "        strength += 0\n",
    "    return strength, sumstrength\n",
    "\n",
    "def cyclestep(cycle, x, strength, sumstrength):\n",
    "    cycle += 1\n",
    "    strength, sumstrength = testcycle(cycle, x, strength, sumstrength)\n",
    "\n",
    "def addx(cycle, x, instruction, strength, sumstrength):\n",
    "    # Start Cycle 1\n",
    "    strength, sumstrength = testcycle(cycle, x, strength, sumstrength)\n",
    "    _, value = instruction.split(' ')\n",
    "    value = int(value)\n",
    "    # End Cycle 1\n",
    "    \n",
    "    cycle += 1\n",
    "    # Start Cycle 2\n",
    "    strength, sumstrength = testcycle(cycle, x, strength, sumstrength)\n",
    "    # End Cycle 2\n",
    "    x += value\n",
    "    return cycle, x, strength, sumstrength\n",
    "    \n",
    "def noop(cycle, x, strength, sumstrength):\n",
    "    cycle += 1\n",
    "    # Start Cycle\n",
    "    strength, sumstrength = testcycle(cycle, x, strength, sumstrength)\n",
    "    return cycle, strength, sumstrength\n",
    "    # End Cycle"
   ]
  },
  {
   "cell_type": "code",
   "execution_count": 222,
   "id": "fc934873",
   "metadata": {},
   "outputs": [
    {
     "name": "stdout",
     "output_type": "stream",
     "text": [
      "20 21 ---------------------> 420 <---\n",
      "60 19 ---------------------> 1140 <---\n",
      "100 21 ---------------------> 2100 <---\n",
      "140 19 ---------------------> 2660 <---\n",
      "180 19 ---------------------> 3420 <---\n",
      "220 21 ---------------------> 4620 <---\n"
     ]
    }
   ],
   "source": [
    "def cycles(instructionlist):\n",
    "    cycle = -1\n",
    "    x = 1\n",
    "    strength = 0\n",
    "    sumstrength = 0\n",
    "    signalstrength = False\n",
    "    for instruction in instructionlist:\n",
    "        \n",
    "        \n",
    "        # instruction begins execution\n",
    "        if instruction[:4] == 'noop':\n",
    "            cycle, strength, sumstrength = noop(cycle, x, strength, sumstrength)\n",
    "            #print(f'Cycle: {cycle} Inst: {instruction} x: {x}')\n",
    "        elif instruction[:4] == 'addx':\n",
    "            cycle, x, strength, sumstrength = addx(cycle, x, instruction, strength, sumstrength)\n",
    "            #print(f'Cycle: {cycle} Inst: {instruction} x: {x}')\n",
    "\n",
    "    return sumstrength\n",
    "x = cycles(input)"
   ]
  },
  {
   "cell_type": "code",
   "execution_count": 217,
   "id": "bc4f9862",
   "metadata": {},
   "outputs": [
    {
     "data": {
      "text/plain": [
       "14360"
      ]
     },
     "execution_count": 217,
     "metadata": {},
     "output_type": "execute_result"
    }
   ],
   "source": [
    "x"
   ]
  },
  {
   "cell_type": "code",
   "execution_count": 226,
   "id": "b326c788",
   "metadata": {},
   "outputs": [
    {
     "name": "stdout",
     "output_type": "stream",
     "text": [
      "Signal strength:  11780\n"
     ]
    }
   ],
   "source": [
    "with open(input, 'r') as file:\n",
    "    commands = [_.split(' ') for _ in file.read().split('\\n')]\n",
    "\n",
    "X = 1\n",
    "states = []\n",
    "# calculate states\n",
    "for command_number, c in enumerate(commands):\n",
    "    if len(c) == 1:\n",
    "        states.append(X)\n",
    "    if len(c) == 2:\n",
    "        states += [X, X]\n",
    "        X += int(c[1])\n",
    "\n",
    "print(\"Signal strength: \", sum([\n",
    "    (i+1)*val for i, val in enumerate(states)\n",
    "    if (i+1) % 40 - 20 == 0\n",
    "]))"
   ]
  },
  {
   "cell_type": "markdown",
   "id": "64ba6c7a",
   "metadata": {},
   "source": [
    "# --- Part Two ---\n",
    "\n",
    "Your device's communication system is correctly detecting packets, but still isn't working. It looks like it also needs to look for **messages**.\n",
    "\n",
    "A **start-of-message** marker is just like a start-of-packet marker, except it consists of **14 distinct characters** rather than 4.\n",
    "\n",
    "Here are the first positions of start-of-message markers for all of the above examples:\n",
    "\n",
    "- `mjqjpqmgbljsphdztnvjfqwrcgsmlb`: first marker after character `19`\n",
    "- `bvwbjplbgvbhsrlpgdmjqwftvncz`: first marker after character `23`\n",
    "- `nppdvjthqldpwncqszvftbrmjlhg`: first marker after character `23`\n",
    "- `nznrnfrfntjfmvfwmzdfjlvtqnbhcprsg`: first marker after character `29`\n",
    "- `zcfzfwzzqfrljwzlrfnpqdbhtmscgvjw`: first marker after character `26`\n",
    "\n",
    "**How many characters need to be processed before the first start-of-message marker is detected?**"
   ]
  },
  {
   "cell_type": "code",
   "execution_count": 10,
   "id": "0da493aa",
   "metadata": {},
   "outputs": [
    {
     "ename": "NameError",
     "evalue": "name 'findsignal' is not defined",
     "output_type": "error",
     "traceback": [
      "\u001b[0;31m---------------------------------------------------------------------------\u001b[0m",
      "\u001b[0;31mNameError\u001b[0m                                 Traceback (most recent call last)",
      "Input \u001b[0;32mIn [10]\u001b[0m, in \u001b[0;36m<cell line: 1>\u001b[0;34m()\u001b[0m\n\u001b[0;32m----> 1\u001b[0m x \u001b[38;5;241m=\u001b[39m \u001b[43mfindsignal\u001b[49m(\u001b[38;5;28minput\u001b[39m, \u001b[38;5;241m14\u001b[39m)\n",
      "\u001b[0;31mNameError\u001b[0m: name 'findsignal' is not defined"
     ]
    }
   ],
   "source": [
    "x = findsignal(input, 14)"
   ]
  },
  {
   "cell_type": "code",
   "execution_count": null,
   "id": "7ce8db31",
   "metadata": {},
   "outputs": [],
   "source": [
    "x"
   ]
  },
  {
   "cell_type": "code",
   "execution_count": null,
   "id": "475767ae",
   "metadata": {},
   "outputs": [],
   "source": []
  }
 ],
 "metadata": {
  "kernelspec": {
   "display_name": "Python 3 (ipykernel)",
   "language": "python",
   "name": "python3"
  },
  "language_info": {
   "codemirror_mode": {
    "name": "ipython",
    "version": 3
   },
   "file_extension": ".py",
   "mimetype": "text/x-python",
   "name": "python",
   "nbconvert_exporter": "python",
   "pygments_lexer": "ipython3",
   "version": "3.9.13"
  }
 },
 "nbformat": 4,
 "nbformat_minor": 5
}
