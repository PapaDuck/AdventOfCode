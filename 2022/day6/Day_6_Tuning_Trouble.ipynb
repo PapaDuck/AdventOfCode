{
 "cells": [
  {
   "cell_type": "markdown",
   "id": "8098f6f2",
   "metadata": {},
   "source": [
    "# --- Day 6: Tuning Trouble ---\n",
    "\n",
    "The preparations are finally complete; you and the Elves leave camp on foot and begin to make your way toward the **star** fruit grove.\n",
    "\n",
    "As you move through the dense undergrowth, one of the Elves gives you a handheld device. He says that it has many fancy features, but the most important one to set up right now is the **communication system**.\n",
    "\n",
    "However, because he's heard you have significant experience dealing with signal-based systems, he convinced the other Elves that it would be okay to give you their one malfunctioning device - surely you'll have no problem fixing it.\n",
    "\n",
    "As if inspired by comedic timing, the device emits a few colorful sparks.\n",
    "\n",
    "To be able to communicate with the Elves, the device needs to lock on to **their signal**. The signal is a series of seemingly-random characters that the device receives one at a time.\n",
    "\n",
    "To fix the communication system, you need to add a subroutine to the device that detects a **start-of-packet marker** in the datastream. In the protocol being used by the Elves, the start of a packet is indicated by a sequence of **four characters that are all different**.\n",
    "\n",
    "The device will send your subroutine a datastream buffer (your puzzle input); your subroutine needs to identify the first position where the four most recently received characters were all different. Specifically, it needs to report the number of characters from the beginning of the buffer to the end of the first such four-character marker.\n",
    "\n",
    "For example, suppose you receive the following datastream buffer:\n",
    "\n",
    "`mjqjpqmgbljsphdztnvjfqwrcgsmlb`\n",
    "\n",
    "After the first three characters (`mjq`) have been received, there haven't been enough characters received yet to find the marker. The first time a marker could occur is after the fourth character is received, making the most recent four characters `mjqj`. Because `j` is repeated, this isn't a marker.\n",
    "\n",
    "The first time a marker appears is after the **seventh** character arrives. Once it does, the last four characters received are `jpqm`, which are all different. In this case, your subroutine should report the value `7`, because the first start-of-packet marker is complete after 7 characters have been processed.\n",
    "\n",
    "Here are a few more examples:\n",
    "\n",
    "- `bvwbjplbgvbhsrlpgdmjqwftvncz`: first marker after character `5`\n",
    "- `nppdvjthqldpwncqszvftbrmjlhg`: first marker after character `6`\n",
    "- `nznrnfrfntjfmvfwmzdfjlvtqnbhcprsg`: first marker after character `10`\n",
    "- `zcfzfwzzqfrljwzlrfnpqdbhtmscgvjw`: first marker after character `11`\n",
    "\n",
    "**How many characters need to be processed before the first start-of-packet marker is detected?**"
   ]
  },
  {
   "cell_type": "code",
   "execution_count": 1,
   "id": "494516d8",
   "metadata": {},
   "outputs": [],
   "source": [
    "#imports"
   ]
  },
  {
   "cell_type": "code",
   "execution_count": 2,
   "id": "329f6caa",
   "metadata": {},
   "outputs": [],
   "source": [
    "input = 'input.txt'"
   ]
  },
  {
   "cell_type": "code",
   "execution_count": 3,
   "id": "c1cc8b23",
   "metadata": {},
   "outputs": [],
   "source": [
    "def readinput(file):\n",
    "    with open(file) as f:\n",
    "        #lines = f.readlines()\n",
    "        lines = f.read().splitlines() \n",
    "    return lines\n",
    "\n",
    "input = readinput(input)"
   ]
  },
  {
   "cell_type": "code",
   "execution_count": 4,
   "id": "be128576",
   "metadata": {},
   "outputs": [],
   "source": [
    "input = input[0]\n",
    "#input"
   ]
  },
  {
   "cell_type": "code",
   "execution_count": 5,
   "id": "71c23240",
   "metadata": {},
   "outputs": [],
   "source": [
    "def findsignal(signallist, firstmaker):\n",
    "    no = 0\n",
    "    lastfour = []\n",
    "    for character in signallist:\n",
    "        #print(no)\n",
    "        #print(character)\n",
    "        lastfour.append(character)\n",
    "        if len(lastfour) == firstmaker+1:\n",
    "            del lastfour[0]\n",
    "        if no >= firstmaker:\n",
    "            #print(\"abhier +4\")\n",
    "            duplicates = lastfour\n",
    "            duplicates = list(dict.fromkeys(duplicates))\n",
    "            if len(duplicates) == firstmaker:\n",
    "                #print('yes')\n",
    "                return no+1\n",
    "        no += 1\n",
    "    return False\n",
    "\n",
    "x = findsignal(input, 4)"
   ]
  },
  {
   "cell_type": "code",
   "execution_count": 6,
   "id": "6fe6b90a",
   "metadata": {
    "scrolled": false
   },
   "outputs": [
    {
     "data": {
      "text/plain": [
       "1804"
      ]
     },
     "execution_count": 6,
     "metadata": {},
     "output_type": "execute_result"
    }
   ],
   "source": [
    "x"
   ]
  },
  {
   "cell_type": "markdown",
   "id": "098f7acc",
   "metadata": {},
   "source": [
    "# --- Part Two ---\n",
    "\n",
    "Your device's communication system is correctly detecting packets, but still isn't working. It looks like it also needs to look for **messages**.\n",
    "\n",
    "A **start-of-message** marker is just like a start-of-packet marker, except it consists of **14 distinct characters** rather than 4.\n",
    "\n",
    "Here are the first positions of start-of-message markers for all of the above examples:\n",
    "\n",
    "- `mjqjpqmgbljsphdztnvjfqwrcgsmlb`: first marker after character `19`\n",
    "- `bvwbjplbgvbhsrlpgdmjqwftvncz`: first marker after character `23`\n",
    "- `nppdvjthqldpwncqszvftbrmjlhg`: first marker after character `23`\n",
    "- `nznrnfrfntjfmvfwmzdfjlvtqnbhcprsg`: first marker after character `29`\n",
    "- `zcfzfwzzqfrljwzlrfnpqdbhtmscgvjw`: first marker after character `26`\n",
    "\n",
    "**How many characters need to be processed before the first start-of-message marker is detected?**"
   ]
  },
  {
   "cell_type": "code",
   "execution_count": 7,
   "id": "8b16d82a",
   "metadata": {},
   "outputs": [],
   "source": [
    "x = findsignal(input, 14)"
   ]
  },
  {
   "cell_type": "code",
   "execution_count": 8,
   "id": "8757fe07",
   "metadata": {},
   "outputs": [
    {
     "data": {
      "text/plain": [
       "2508"
      ]
     },
     "execution_count": 8,
     "metadata": {},
     "output_type": "execute_result"
    }
   ],
   "source": [
    "x"
   ]
  },
  {
   "cell_type": "code",
   "execution_count": null,
   "id": "081308e7",
   "metadata": {},
   "outputs": [],
   "source": []
  }
 ],
 "metadata": {
  "kernelspec": {
   "display_name": "Python 3 (ipykernel)",
   "language": "python",
   "name": "python3"
  },
  "language_info": {
   "codemirror_mode": {
    "name": "ipython",
    "version": 3
   },
   "file_extension": ".py",
   "mimetype": "text/x-python",
   "name": "python",
   "nbconvert_exporter": "python",
   "pygments_lexer": "ipython3",
   "version": "3.9.13"
  }
 },
 "nbformat": 4,
 "nbformat_minor": 5
}
